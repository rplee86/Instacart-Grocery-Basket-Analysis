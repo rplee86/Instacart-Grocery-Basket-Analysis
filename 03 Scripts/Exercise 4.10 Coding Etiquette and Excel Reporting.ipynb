{
 "cells": [
  {
   "cell_type": "markdown",
   "id": "7b76d154",
   "metadata": {},
   "source": [
    "# Exercise 4.10 Coding Etiquette and Excel Reporting"
   ]
  },
  {
   "cell_type": "markdown",
   "id": "cbe1f4d4",
   "metadata": {},
   "source": [
    "## This script contains the following:\n",
    "1. Import Libraries and Data Files\n",
    "2. Addressing PII\n",
    "3. Deriving New Variables, Deriving Contingency Tables, Aggregating Variables\n",
    "4. Create Visualizations of Customer Profiles\n",
    "5. Create and Export Other Suitable Visualizations"
   ]
  },
  {
   "cell_type": "markdown",
   "id": "2b8fd7d8",
   "metadata": {},
   "source": [
    "# 1. Import Libraries and Data Files"
   ]
  },
  {
   "cell_type": "markdown",
   "id": "e007d4af",
   "metadata": {},
   "source": [
    "#### Import the data set you exported in Exercise 4.9 into a new Jupyter notebook. This should be the merged version of your data that contains the new customers column."
   ]
  },
  {
   "cell_type": "code",
   "execution_count": 1,
   "id": "b67dc18c",
   "metadata": {},
   "outputs": [],
   "source": [
    "# Import the necessary libraries\n",
    "import pandas as pd\n",
    "import numpy as np\n",
    "import os\n",
    "import matplotlib.pyplot as plt\n",
    "import seaborn as sns\n",
    "import scipy"
   ]
  },
  {
   "cell_type": "code",
   "execution_count": 2,
   "id": "38af4eeb",
   "metadata": {},
   "outputs": [],
   "source": [
    "# Create a string of the path for the main project folder\n",
    "path = r'C:\\Users\\Ryan\\Documents\\07-17-2023 Instacart Basket Analysis'"
   ]
  },
  {
   "cell_type": "code",
   "execution_count": 3,
   "id": "418cd078",
   "metadata": {},
   "outputs": [],
   "source": [
    "# Import the “orders_products_merged.pkl” data set using the os library\n",
    "ords_prods_all = pd.read_pickle(os.path.join(path, '02 Data', 'Prepared Data', 'orders_products_all.pkl'))"
   ]
  },
  {
   "cell_type": "code",
   "execution_count": 4,
   "id": "076ecae3",
   "metadata": {},
   "outputs": [
    {
     "data": {
      "text/html": [
       "<div>\n",
       "<style scoped>\n",
       "    .dataframe tbody tr th:only-of-type {\n",
       "        vertical-align: middle;\n",
       "    }\n",
       "\n",
       "    .dataframe tbody tr th {\n",
       "        vertical-align: top;\n",
       "    }\n",
       "\n",
       "    .dataframe thead th {\n",
       "        text-align: right;\n",
       "    }\n",
       "</style>\n",
       "<table border=\"1\" class=\"dataframe\">\n",
       "  <thead>\n",
       "    <tr style=\"text-align: right;\">\n",
       "      <th></th>\n",
       "      <th>order_id</th>\n",
       "      <th>user_id</th>\n",
       "      <th>order_number</th>\n",
       "      <th>orders_day_of_week</th>\n",
       "      <th>order_hour_of_day</th>\n",
       "      <th>days_since_prior_order</th>\n",
       "      <th>product_id</th>\n",
       "      <th>add_to_cart_order</th>\n",
       "      <th>reordered</th>\n",
       "      <th>product_name</th>\n",
       "      <th>...</th>\n",
       "      <th>spender_label</th>\n",
       "      <th>median_days_since_prior_order</th>\n",
       "      <th>customer_frequency_level</th>\n",
       "      <th>first_name</th>\n",
       "      <th>last_name</th>\n",
       "      <th>state</th>\n",
       "      <th>age</th>\n",
       "      <th>number_of_dependants</th>\n",
       "      <th>marital_status</th>\n",
       "      <th>income</th>\n",
       "    </tr>\n",
       "  </thead>\n",
       "  <tbody>\n",
       "    <tr>\n",
       "      <th>0</th>\n",
       "      <td>2539329</td>\n",
       "      <td>1</td>\n",
       "      <td>1</td>\n",
       "      <td>2</td>\n",
       "      <td>8</td>\n",
       "      <td>NaN</td>\n",
       "      <td>196</td>\n",
       "      <td>1</td>\n",
       "      <td>0</td>\n",
       "      <td>Soda</td>\n",
       "      <td>...</td>\n",
       "      <td>Low spender</td>\n",
       "      <td>20.5</td>\n",
       "      <td>Non-frequent customer</td>\n",
       "      <td>Linda</td>\n",
       "      <td>Nguyen</td>\n",
       "      <td>Alabama</td>\n",
       "      <td>31</td>\n",
       "      <td>3</td>\n",
       "      <td>married</td>\n",
       "      <td>40423</td>\n",
       "    </tr>\n",
       "    <tr>\n",
       "      <th>1</th>\n",
       "      <td>2398795</td>\n",
       "      <td>1</td>\n",
       "      <td>2</td>\n",
       "      <td>3</td>\n",
       "      <td>7</td>\n",
       "      <td>15.0</td>\n",
       "      <td>196</td>\n",
       "      <td>1</td>\n",
       "      <td>1</td>\n",
       "      <td>Soda</td>\n",
       "      <td>...</td>\n",
       "      <td>Low spender</td>\n",
       "      <td>20.5</td>\n",
       "      <td>Non-frequent customer</td>\n",
       "      <td>Linda</td>\n",
       "      <td>Nguyen</td>\n",
       "      <td>Alabama</td>\n",
       "      <td>31</td>\n",
       "      <td>3</td>\n",
       "      <td>married</td>\n",
       "      <td>40423</td>\n",
       "    </tr>\n",
       "    <tr>\n",
       "      <th>2</th>\n",
       "      <td>473747</td>\n",
       "      <td>1</td>\n",
       "      <td>3</td>\n",
       "      <td>3</td>\n",
       "      <td>12</td>\n",
       "      <td>21.0</td>\n",
       "      <td>196</td>\n",
       "      <td>1</td>\n",
       "      <td>1</td>\n",
       "      <td>Soda</td>\n",
       "      <td>...</td>\n",
       "      <td>Low spender</td>\n",
       "      <td>20.5</td>\n",
       "      <td>Non-frequent customer</td>\n",
       "      <td>Linda</td>\n",
       "      <td>Nguyen</td>\n",
       "      <td>Alabama</td>\n",
       "      <td>31</td>\n",
       "      <td>3</td>\n",
       "      <td>married</td>\n",
       "      <td>40423</td>\n",
       "    </tr>\n",
       "    <tr>\n",
       "      <th>3</th>\n",
       "      <td>2254736</td>\n",
       "      <td>1</td>\n",
       "      <td>4</td>\n",
       "      <td>4</td>\n",
       "      <td>7</td>\n",
       "      <td>29.0</td>\n",
       "      <td>196</td>\n",
       "      <td>1</td>\n",
       "      <td>1</td>\n",
       "      <td>Soda</td>\n",
       "      <td>...</td>\n",
       "      <td>Low spender</td>\n",
       "      <td>20.5</td>\n",
       "      <td>Non-frequent customer</td>\n",
       "      <td>Linda</td>\n",
       "      <td>Nguyen</td>\n",
       "      <td>Alabama</td>\n",
       "      <td>31</td>\n",
       "      <td>3</td>\n",
       "      <td>married</td>\n",
       "      <td>40423</td>\n",
       "    </tr>\n",
       "    <tr>\n",
       "      <th>4</th>\n",
       "      <td>431534</td>\n",
       "      <td>1</td>\n",
       "      <td>5</td>\n",
       "      <td>4</td>\n",
       "      <td>15</td>\n",
       "      <td>28.0</td>\n",
       "      <td>196</td>\n",
       "      <td>1</td>\n",
       "      <td>1</td>\n",
       "      <td>Soda</td>\n",
       "      <td>...</td>\n",
       "      <td>Low spender</td>\n",
       "      <td>20.5</td>\n",
       "      <td>Non-frequent customer</td>\n",
       "      <td>Linda</td>\n",
       "      <td>Nguyen</td>\n",
       "      <td>Alabama</td>\n",
       "      <td>31</td>\n",
       "      <td>3</td>\n",
       "      <td>married</td>\n",
       "      <td>40423</td>\n",
       "    </tr>\n",
       "  </tbody>\n",
       "</table>\n",
       "<p>5 rows × 29 columns</p>\n",
       "</div>"
      ],
      "text/plain": [
       "   order_id  user_id  order_number  orders_day_of_week  order_hour_of_day  \\\n",
       "0   2539329        1             1                   2                  8   \n",
       "1   2398795        1             2                   3                  7   \n",
       "2    473747        1             3                   3                 12   \n",
       "3   2254736        1             4                   4                  7   \n",
       "4    431534        1             5                   4                 15   \n",
       "\n",
       "   days_since_prior_order  product_id  add_to_cart_order  reordered  \\\n",
       "0                     NaN         196                  1          0   \n",
       "1                    15.0         196                  1          1   \n",
       "2                    21.0         196                  1          1   \n",
       "3                    29.0         196                  1          1   \n",
       "4                    28.0         196                  1          1   \n",
       "\n",
       "  product_name  ...  spender_label  median_days_since_prior_order  \\\n",
       "0         Soda  ...    Low spender                           20.5   \n",
       "1         Soda  ...    Low spender                           20.5   \n",
       "2         Soda  ...    Low spender                           20.5   \n",
       "3         Soda  ...    Low spender                           20.5   \n",
       "4         Soda  ...    Low spender                           20.5   \n",
       "\n",
       "   customer_frequency_level first_name last_name    state  age  \\\n",
       "0     Non-frequent customer      Linda    Nguyen  Alabama   31   \n",
       "1     Non-frequent customer      Linda    Nguyen  Alabama   31   \n",
       "2     Non-frequent customer      Linda    Nguyen  Alabama   31   \n",
       "3     Non-frequent customer      Linda    Nguyen  Alabama   31   \n",
       "4     Non-frequent customer      Linda    Nguyen  Alabama   31   \n",
       "\n",
       "  number_of_dependants  marital_status income  \n",
       "0                    3         married  40423  \n",
       "1                    3         married  40423  \n",
       "2                    3         married  40423  \n",
       "3                    3         married  40423  \n",
       "4                    3         married  40423  \n",
       "\n",
       "[5 rows x 29 columns]"
      ]
     },
     "execution_count": 4,
     "metadata": {},
     "output_type": "execute_result"
    }
   ],
   "source": [
    "# Check the output\n",
    "ords_prods_all.head()"
   ]
  },
  {
   "cell_type": "code",
   "execution_count": 5,
   "id": "237c1115",
   "metadata": {},
   "outputs": [
    {
     "data": {
      "text/plain": [
       "(32404859, 29)"
      ]
     },
     "execution_count": 5,
     "metadata": {},
     "output_type": "execute_result"
    }
   ],
   "source": [
    "# Check the dimensions\n",
    "ords_prods_all.shape"
   ]
  },
  {
   "cell_type": "markdown",
   "id": "a5e4c4f1",
   "metadata": {},
   "source": [
    "# 2. Addressing PII"
   ]
  },
  {
   "cell_type": "markdown",
   "id": "c44cd675",
   "metadata": {},
   "source": [
    "#### Consider any security implications that might exist for this new data. You’ll need to address any PII data in the data before continuing your analysis."
   ]
  },
  {
   "cell_type": "code",
   "execution_count": 6,
   "id": "46523edf",
   "metadata": {},
   "outputs": [],
   "source": [
    "# Option to show all columns in dataframe\n",
    "pd.options.display.max_columns=None"
   ]
  },
  {
   "cell_type": "code",
   "execution_count": 7,
   "id": "2473da66",
   "metadata": {},
   "outputs": [
    {
     "data": {
      "text/html": [
       "<div>\n",
       "<style scoped>\n",
       "    .dataframe tbody tr th:only-of-type {\n",
       "        vertical-align: middle;\n",
       "    }\n",
       "\n",
       "    .dataframe tbody tr th {\n",
       "        vertical-align: top;\n",
       "    }\n",
       "\n",
       "    .dataframe thead th {\n",
       "        text-align: right;\n",
       "    }\n",
       "</style>\n",
       "<table border=\"1\" class=\"dataframe\">\n",
       "  <thead>\n",
       "    <tr style=\"text-align: right;\">\n",
       "      <th></th>\n",
       "      <th>order_id</th>\n",
       "      <th>user_id</th>\n",
       "      <th>order_number</th>\n",
       "      <th>orders_day_of_week</th>\n",
       "      <th>order_hour_of_day</th>\n",
       "      <th>days_since_prior_order</th>\n",
       "      <th>product_id</th>\n",
       "      <th>add_to_cart_order</th>\n",
       "      <th>reordered</th>\n",
       "      <th>product_name</th>\n",
       "      <th>aisle_id</th>\n",
       "      <th>department_id</th>\n",
       "      <th>prices</th>\n",
       "      <th>price_range</th>\n",
       "      <th>busiest_days</th>\n",
       "      <th>busiest_period_of_day</th>\n",
       "      <th>max_order</th>\n",
       "      <th>loyalty_label</th>\n",
       "      <th>mean_spent</th>\n",
       "      <th>spender_label</th>\n",
       "      <th>median_days_since_prior_order</th>\n",
       "      <th>customer_frequency_level</th>\n",
       "      <th>first_name</th>\n",
       "      <th>last_name</th>\n",
       "      <th>state</th>\n",
       "      <th>age</th>\n",
       "      <th>number_of_dependants</th>\n",
       "      <th>marital_status</th>\n",
       "      <th>income</th>\n",
       "    </tr>\n",
       "  </thead>\n",
       "  <tbody>\n",
       "    <tr>\n",
       "      <th>0</th>\n",
       "      <td>2539329</td>\n",
       "      <td>1</td>\n",
       "      <td>1</td>\n",
       "      <td>2</td>\n",
       "      <td>8</td>\n",
       "      <td>NaN</td>\n",
       "      <td>196</td>\n",
       "      <td>1</td>\n",
       "      <td>0</td>\n",
       "      <td>Soda</td>\n",
       "      <td>77</td>\n",
       "      <td>7</td>\n",
       "      <td>9.0</td>\n",
       "      <td>Mid-range product</td>\n",
       "      <td>Regularly busy</td>\n",
       "      <td>Average orders</td>\n",
       "      <td>10</td>\n",
       "      <td>New customer</td>\n",
       "      <td>6.367797</td>\n",
       "      <td>Low spender</td>\n",
       "      <td>20.5</td>\n",
       "      <td>Non-frequent customer</td>\n",
       "      <td>Linda</td>\n",
       "      <td>Nguyen</td>\n",
       "      <td>Alabama</td>\n",
       "      <td>31</td>\n",
       "      <td>3</td>\n",
       "      <td>married</td>\n",
       "      <td>40423</td>\n",
       "    </tr>\n",
       "    <tr>\n",
       "      <th>1</th>\n",
       "      <td>2398795</td>\n",
       "      <td>1</td>\n",
       "      <td>2</td>\n",
       "      <td>3</td>\n",
       "      <td>7</td>\n",
       "      <td>15.0</td>\n",
       "      <td>196</td>\n",
       "      <td>1</td>\n",
       "      <td>1</td>\n",
       "      <td>Soda</td>\n",
       "      <td>77</td>\n",
       "      <td>7</td>\n",
       "      <td>9.0</td>\n",
       "      <td>Mid-range product</td>\n",
       "      <td>Least busy</td>\n",
       "      <td>Average orders</td>\n",
       "      <td>10</td>\n",
       "      <td>New customer</td>\n",
       "      <td>6.367797</td>\n",
       "      <td>Low spender</td>\n",
       "      <td>20.5</td>\n",
       "      <td>Non-frequent customer</td>\n",
       "      <td>Linda</td>\n",
       "      <td>Nguyen</td>\n",
       "      <td>Alabama</td>\n",
       "      <td>31</td>\n",
       "      <td>3</td>\n",
       "      <td>married</td>\n",
       "      <td>40423</td>\n",
       "    </tr>\n",
       "    <tr>\n",
       "      <th>2</th>\n",
       "      <td>473747</td>\n",
       "      <td>1</td>\n",
       "      <td>3</td>\n",
       "      <td>3</td>\n",
       "      <td>12</td>\n",
       "      <td>21.0</td>\n",
       "      <td>196</td>\n",
       "      <td>1</td>\n",
       "      <td>1</td>\n",
       "      <td>Soda</td>\n",
       "      <td>77</td>\n",
       "      <td>7</td>\n",
       "      <td>9.0</td>\n",
       "      <td>Mid-range product</td>\n",
       "      <td>Least busy</td>\n",
       "      <td>Most orders</td>\n",
       "      <td>10</td>\n",
       "      <td>New customer</td>\n",
       "      <td>6.367797</td>\n",
       "      <td>Low spender</td>\n",
       "      <td>20.5</td>\n",
       "      <td>Non-frequent customer</td>\n",
       "      <td>Linda</td>\n",
       "      <td>Nguyen</td>\n",
       "      <td>Alabama</td>\n",
       "      <td>31</td>\n",
       "      <td>3</td>\n",
       "      <td>married</td>\n",
       "      <td>40423</td>\n",
       "    </tr>\n",
       "    <tr>\n",
       "      <th>3</th>\n",
       "      <td>2254736</td>\n",
       "      <td>1</td>\n",
       "      <td>4</td>\n",
       "      <td>4</td>\n",
       "      <td>7</td>\n",
       "      <td>29.0</td>\n",
       "      <td>196</td>\n",
       "      <td>1</td>\n",
       "      <td>1</td>\n",
       "      <td>Soda</td>\n",
       "      <td>77</td>\n",
       "      <td>7</td>\n",
       "      <td>9.0</td>\n",
       "      <td>Mid-range product</td>\n",
       "      <td>Least busy</td>\n",
       "      <td>Average orders</td>\n",
       "      <td>10</td>\n",
       "      <td>New customer</td>\n",
       "      <td>6.367797</td>\n",
       "      <td>Low spender</td>\n",
       "      <td>20.5</td>\n",
       "      <td>Non-frequent customer</td>\n",
       "      <td>Linda</td>\n",
       "      <td>Nguyen</td>\n",
       "      <td>Alabama</td>\n",
       "      <td>31</td>\n",
       "      <td>3</td>\n",
       "      <td>married</td>\n",
       "      <td>40423</td>\n",
       "    </tr>\n",
       "    <tr>\n",
       "      <th>4</th>\n",
       "      <td>431534</td>\n",
       "      <td>1</td>\n",
       "      <td>5</td>\n",
       "      <td>4</td>\n",
       "      <td>15</td>\n",
       "      <td>28.0</td>\n",
       "      <td>196</td>\n",
       "      <td>1</td>\n",
       "      <td>1</td>\n",
       "      <td>Soda</td>\n",
       "      <td>77</td>\n",
       "      <td>7</td>\n",
       "      <td>9.0</td>\n",
       "      <td>Mid-range product</td>\n",
       "      <td>Least busy</td>\n",
       "      <td>Most orders</td>\n",
       "      <td>10</td>\n",
       "      <td>New customer</td>\n",
       "      <td>6.367797</td>\n",
       "      <td>Low spender</td>\n",
       "      <td>20.5</td>\n",
       "      <td>Non-frequent customer</td>\n",
       "      <td>Linda</td>\n",
       "      <td>Nguyen</td>\n",
       "      <td>Alabama</td>\n",
       "      <td>31</td>\n",
       "      <td>3</td>\n",
       "      <td>married</td>\n",
       "      <td>40423</td>\n",
       "    </tr>\n",
       "  </tbody>\n",
       "</table>\n",
       "</div>"
      ],
      "text/plain": [
       "   order_id  user_id  order_number  orders_day_of_week  order_hour_of_day  \\\n",
       "0   2539329        1             1                   2                  8   \n",
       "1   2398795        1             2                   3                  7   \n",
       "2    473747        1             3                   3                 12   \n",
       "3   2254736        1             4                   4                  7   \n",
       "4    431534        1             5                   4                 15   \n",
       "\n",
       "   days_since_prior_order  product_id  add_to_cart_order  reordered  \\\n",
       "0                     NaN         196                  1          0   \n",
       "1                    15.0         196                  1          1   \n",
       "2                    21.0         196                  1          1   \n",
       "3                    29.0         196                  1          1   \n",
       "4                    28.0         196                  1          1   \n",
       "\n",
       "  product_name  aisle_id  department_id  prices        price_range  \\\n",
       "0         Soda        77              7     9.0  Mid-range product   \n",
       "1         Soda        77              7     9.0  Mid-range product   \n",
       "2         Soda        77              7     9.0  Mid-range product   \n",
       "3         Soda        77              7     9.0  Mid-range product   \n",
       "4         Soda        77              7     9.0  Mid-range product   \n",
       "\n",
       "     busiest_days busiest_period_of_day  max_order loyalty_label  mean_spent  \\\n",
       "0  Regularly busy        Average orders         10  New customer    6.367797   \n",
       "1      Least busy        Average orders         10  New customer    6.367797   \n",
       "2      Least busy           Most orders         10  New customer    6.367797   \n",
       "3      Least busy        Average orders         10  New customer    6.367797   \n",
       "4      Least busy           Most orders         10  New customer    6.367797   \n",
       "\n",
       "  spender_label  median_days_since_prior_order customer_frequency_level  \\\n",
       "0   Low spender                           20.5    Non-frequent customer   \n",
       "1   Low spender                           20.5    Non-frequent customer   \n",
       "2   Low spender                           20.5    Non-frequent customer   \n",
       "3   Low spender                           20.5    Non-frequent customer   \n",
       "4   Low spender                           20.5    Non-frequent customer   \n",
       "\n",
       "  first_name last_name    state  age  number_of_dependants marital_status  \\\n",
       "0      Linda    Nguyen  Alabama   31                     3        married   \n",
       "1      Linda    Nguyen  Alabama   31                     3        married   \n",
       "2      Linda    Nguyen  Alabama   31                     3        married   \n",
       "3      Linda    Nguyen  Alabama   31                     3        married   \n",
       "4      Linda    Nguyen  Alabama   31                     3        married   \n",
       "\n",
       "   income  \n",
       "0   40423  \n",
       "1   40423  \n",
       "2   40423  \n",
       "3   40423  \n",
       "4   40423  "
      ]
     },
     "execution_count": 7,
     "metadata": {},
     "output_type": "execute_result"
    }
   ],
   "source": [
    "# Check the output\n",
    "ords_prods_all.head()"
   ]
  },
  {
   "cell_type": "markdown",
   "id": "3e3a1371",
   "metadata": {},
   "source": [
    "The only personally identifiable information is the first name and last name of instacart customers. The names of customers are not needed for analysis. Though the names were fabricated for the purposes of learning, we will treat them as sensitive information. Therefore, the first and last names will be removed from the dataframe."
   ]
  },
  {
   "cell_type": "code",
   "execution_count": 8,
   "id": "99c5801d",
   "metadata": {},
   "outputs": [],
   "source": [
    "# Drop 'first_name' and 'last_name' column from ords_prods_merge\n",
    "ords_prods_all = ords_prods_all.drop(columns = ['first_name', 'last_name'])"
   ]
  },
  {
   "cell_type": "code",
   "execution_count": 9,
   "id": "8bd1681c",
   "metadata": {},
   "outputs": [
    {
     "data": {
      "text/plain": [
       "(32404859, 27)"
      ]
     },
     "execution_count": 9,
     "metadata": {},
     "output_type": "execute_result"
    }
   ],
   "source": [
    "# Check the dimensions\n",
    "ords_prods_all.shape"
   ]
  },
  {
   "cell_type": "markdown",
   "id": "f07a442e",
   "metadata": {},
   "source": [
    "# 3. Deriving New Variables, Deriving Contingency Tables, Aggregating Variables"
   ]
  },
  {
   "cell_type": "markdown",
   "id": "e2a96287",
   "metadata": {},
   "source": [
    "#### The Instacart officers are interested in comparing customer behavior in different geographic areas. Create a regional segmentation of the data. You’ll need to create a “Region” column based on the “State” column from your customers data set.\n",
    "1. Divide the states into the following regions: Northeast, Midwest, South, West.\n",
    "2. Determine whether there’s a difference in spending habits between the different U.S. regions. (Hint: You can do this by crossing the variable you just created with the spending flag.)"
   ]
  },
  {
   "cell_type": "markdown",
   "id": "4568dffe",
   "metadata": {},
   "source": [
    "#### Divide the states into the following regions: Northeast, Midwest, South, West"
   ]
  },
  {
   "cell_type": "code",
   "execution_count": 10,
   "id": "ff0b894b",
   "metadata": {},
   "outputs": [],
   "source": [
    "# Create 'region' column that assigns 'Northeast' label\n",
    "ords_prods_all.loc[ords_prods_all['state'].isin(['Maine', 'New Hampshire', 'Vermont', 'Massachusetts', 'Rhode Island', 'Connecticut', 'New York', 'Pennsylvania', 'New Jersey']), 'region'] = 'Northeast'"
   ]
  },
  {
   "cell_type": "code",
   "execution_count": 11,
   "id": "269ace8c",
   "metadata": {},
   "outputs": [],
   "source": [
    "# Create 'region' column that assigns 'Midwest' label\n",
    "ords_prods_all.loc[ords_prods_all['state'].isin(['Wisconsin', 'Michigan', 'Illinois', 'Indiana', 'Ohio', 'North Dakota', 'South Dakota', 'Nebraska', 'Kansas', 'Minnesota', 'Iowa', 'Missouri']), 'region'] = 'Midwest'"
   ]
  },
  {
   "cell_type": "code",
   "execution_count": 12,
   "id": "64cbd3f6",
   "metadata": {},
   "outputs": [],
   "source": [
    "# Create 'region' column that assigns 'South' label\n",
    "ords_prods_all.loc[ords_prods_all['state'].isin(['Delaware', 'Maryland', 'District of Columbia', 'Virginia', 'West Virginia', 'North Carolina', 'South Carolina', 'Georgia', 'Florida', 'Kentucky', 'Tennessee', 'Mississippi', 'Alabama', 'Oklahoma', 'Texas', 'Arkansas', 'Louisiana']), 'region'] = 'South'"
   ]
  },
  {
   "cell_type": "code",
   "execution_count": 13,
   "id": "ce83ccb1",
   "metadata": {},
   "outputs": [],
   "source": [
    "# Create 'region' column that assigns 'West' label\n",
    "ords_prods_all.loc[ords_prods_all['state'].isin(['Idaho', 'Montana', 'Wyoming', 'Nevada', 'Utah', 'Colorado', 'Arizona', 'New Mexico', 'Alaska', 'Washington', 'Oregon', 'California', 'Hawaii']), 'region'] = 'West'"
   ]
  },
  {
   "cell_type": "code",
   "execution_count": 14,
   "id": "13b8a323",
   "metadata": {},
   "outputs": [
    {
     "data": {
      "text/plain": [
       "South        10791885\n",
       "West          8292913\n",
       "Midwest       7597325\n",
       "Northeast     5722736\n",
       "Name: region, dtype: int64"
      ]
     },
     "execution_count": 14,
     "metadata": {},
     "output_type": "execute_result"
    }
   ],
   "source": [
    "# Check the frequencies of 'region' column\n",
    "ords_prods_all['region'].value_counts(dropna = False)"
   ]
  },
  {
   "cell_type": "code",
   "execution_count": 15,
   "id": "166fabff",
   "metadata": {},
   "outputs": [
    {
     "data": {
      "text/plain": [
       "(32404859, 28)"
      ]
     },
     "execution_count": 15,
     "metadata": {},
     "output_type": "execute_result"
    }
   ],
   "source": [
    "# Check the dimensions\n",
    "ords_prods_all.shape"
   ]
  },
  {
   "cell_type": "markdown",
   "id": "4190a347",
   "metadata": {},
   "source": [
    "#### Determine whether there’s a difference in spending habits between the different U.S. regions."
   ]
  },
  {
   "cell_type": "code",
   "execution_count": 16,
   "id": "d3d1b4b5",
   "metadata": {},
   "outputs": [],
   "source": [
    "# Create a crosstab between 'region' and 'spender_label'\n",
    "crosstab = pd.crosstab(ords_prods_all['region'], ords_prods_all['spender_label'], dropna=False)"
   ]
  },
  {
   "cell_type": "code",
   "execution_count": 17,
   "id": "3d39b82a",
   "metadata": {},
   "outputs": [
    {
     "data": {
      "text/html": [
       "<div>\n",
       "<style scoped>\n",
       "    .dataframe tbody tr th:only-of-type {\n",
       "        vertical-align: middle;\n",
       "    }\n",
       "\n",
       "    .dataframe tbody tr th {\n",
       "        vertical-align: top;\n",
       "    }\n",
       "\n",
       "    .dataframe thead th {\n",
       "        text-align: right;\n",
       "    }\n",
       "</style>\n",
       "<table border=\"1\" class=\"dataframe\">\n",
       "  <thead>\n",
       "    <tr style=\"text-align: right;\">\n",
       "      <th>spender_label</th>\n",
       "      <th>High spender</th>\n",
       "      <th>Low spender</th>\n",
       "    </tr>\n",
       "    <tr>\n",
       "      <th>region</th>\n",
       "      <th></th>\n",
       "      <th></th>\n",
       "    </tr>\n",
       "  </thead>\n",
       "  <tbody>\n",
       "    <tr>\n",
       "      <th>Midwest</th>\n",
       "      <td>29265</td>\n",
       "      <td>7568060</td>\n",
       "    </tr>\n",
       "    <tr>\n",
       "      <th>Northeast</th>\n",
       "      <td>18642</td>\n",
       "      <td>5704094</td>\n",
       "    </tr>\n",
       "    <tr>\n",
       "      <th>South</th>\n",
       "      <td>40579</td>\n",
       "      <td>10751306</td>\n",
       "    </tr>\n",
       "    <tr>\n",
       "      <th>West</th>\n",
       "      <td>31242</td>\n",
       "      <td>8261671</td>\n",
       "    </tr>\n",
       "  </tbody>\n",
       "</table>\n",
       "</div>"
      ],
      "text/plain": [
       "spender_label  High spender  Low spender\n",
       "region                                  \n",
       "Midwest               29265      7568060\n",
       "Northeast             18642      5704094\n",
       "South                 40579     10751306\n",
       "West                  31242      8261671"
      ]
     },
     "execution_count": 17,
     "metadata": {},
     "output_type": "execute_result"
    }
   ],
   "source": [
    "# Check the output\n",
    "crosstab"
   ]
  },
  {
   "cell_type": "markdown",
   "id": "4500afb8",
   "metadata": {},
   "source": [
    "#### A chi-square test can be conducted to determine if spending habits are different for customers living in different U.S. regions. \n",
    "The p-value for this chi-square test is 0, so the result is statistically significant. We conclude that spending habits differ across regions in the United States."
   ]
  },
  {
   "cell_type": "markdown",
   "id": "8f5ba45c",
   "metadata": {},
   "source": [
    "#### The Instacart CFO isn’t interested in customers who don’t generate much revenue for the app. Create an exclusion flag for low-activity customers (customers with less than 5 orders) and exclude them from the data. Make sure you export this sample."
   ]
  },
  {
   "cell_type": "code",
   "execution_count": 18,
   "id": "8fb3494f",
   "metadata": {},
   "outputs": [
    {
     "data": {
      "text/plain": [
       "(1440295, 28)"
      ]
     },
     "execution_count": 18,
     "metadata": {},
     "output_type": "execute_result"
    }
   ],
   "source": [
    "# Check the dimensions of ords_prods_all dataframe where max_order < 5\n",
    "ords_prods_all.loc[ords_prods_all['max_order'] < 5].shape"
   ]
  },
  {
   "cell_type": "code",
   "execution_count": 19,
   "id": "a7a144cf",
   "metadata": {},
   "outputs": [],
   "source": [
    "# Exclude customers with max_order < 5 from ords_prods_all\n",
    "ords_prods_all = ords_prods_all.loc[ords_prods_all['max_order'] >= 5]"
   ]
  },
  {
   "cell_type": "code",
   "execution_count": 20,
   "id": "aef1c572",
   "metadata": {},
   "outputs": [
    {
     "data": {
      "text/plain": [
       "(30964564, 28)"
      ]
     },
     "execution_count": 20,
     "metadata": {},
     "output_type": "execute_result"
    }
   ],
   "source": [
    "# Check the dimensions\n",
    "ords_prods_all.shape"
   ]
  },
  {
   "cell_type": "markdown",
   "id": "7f97d8b7",
   "metadata": {},
   "source": [
    "#### The marketing and business strategy units at Instacart want to create more-relevant marketing strategies for different products and are, thus, curious about customer profiling in their database. Create a profiling variable based on age, income, certain goods in the “department_id” column, and number of dependents. You might also use the “orders_day_of_the_week” and “order_hour_of_day” columns if you can think of a way they would impact customer profiles. (Hint: As an example, try thinking of what characteristics would lead you to the profile “Single adult” or “Young parent.”)"
   ]
  },
  {
   "cell_type": "code",
   "execution_count": 21,
   "id": "04614480",
   "metadata": {},
   "outputs": [],
   "source": [
    "# Import the “customers.csv” data set using the os library\n",
    "df_custs = pd.read_csv(os.path.join(path, '02 Data', 'Original Data', 'customers.csv'))"
   ]
  },
  {
   "cell_type": "code",
   "execution_count": 22,
   "id": "66243b1e",
   "metadata": {},
   "outputs": [
    {
     "data": {
      "text/html": [
       "<div>\n",
       "<style scoped>\n",
       "    .dataframe tbody tr th:only-of-type {\n",
       "        vertical-align: middle;\n",
       "    }\n",
       "\n",
       "    .dataframe tbody tr th {\n",
       "        vertical-align: top;\n",
       "    }\n",
       "\n",
       "    .dataframe thead th {\n",
       "        text-align: right;\n",
       "    }\n",
       "</style>\n",
       "<table border=\"1\" class=\"dataframe\">\n",
       "  <thead>\n",
       "    <tr style=\"text-align: right;\">\n",
       "      <th></th>\n",
       "      <th>user_id</th>\n",
       "      <th>First Name</th>\n",
       "      <th>Surnam</th>\n",
       "      <th>Gender</th>\n",
       "      <th>STATE</th>\n",
       "      <th>Age</th>\n",
       "      <th>date_joined</th>\n",
       "      <th>n_dependants</th>\n",
       "      <th>fam_status</th>\n",
       "      <th>income</th>\n",
       "    </tr>\n",
       "  </thead>\n",
       "  <tbody>\n",
       "    <tr>\n",
       "      <th>0</th>\n",
       "      <td>26711</td>\n",
       "      <td>Deborah</td>\n",
       "      <td>Esquivel</td>\n",
       "      <td>Female</td>\n",
       "      <td>Missouri</td>\n",
       "      <td>48</td>\n",
       "      <td>1/1/2017</td>\n",
       "      <td>3</td>\n",
       "      <td>married</td>\n",
       "      <td>165665</td>\n",
       "    </tr>\n",
       "    <tr>\n",
       "      <th>1</th>\n",
       "      <td>33890</td>\n",
       "      <td>Patricia</td>\n",
       "      <td>Hart</td>\n",
       "      <td>Female</td>\n",
       "      <td>New Mexico</td>\n",
       "      <td>36</td>\n",
       "      <td>1/1/2017</td>\n",
       "      <td>0</td>\n",
       "      <td>single</td>\n",
       "      <td>59285</td>\n",
       "    </tr>\n",
       "    <tr>\n",
       "      <th>2</th>\n",
       "      <td>65803</td>\n",
       "      <td>Kenneth</td>\n",
       "      <td>Farley</td>\n",
       "      <td>Male</td>\n",
       "      <td>Idaho</td>\n",
       "      <td>35</td>\n",
       "      <td>1/1/2017</td>\n",
       "      <td>2</td>\n",
       "      <td>married</td>\n",
       "      <td>99568</td>\n",
       "    </tr>\n",
       "    <tr>\n",
       "      <th>3</th>\n",
       "      <td>125935</td>\n",
       "      <td>Michelle</td>\n",
       "      <td>Hicks</td>\n",
       "      <td>Female</td>\n",
       "      <td>Iowa</td>\n",
       "      <td>40</td>\n",
       "      <td>1/1/2017</td>\n",
       "      <td>0</td>\n",
       "      <td>single</td>\n",
       "      <td>42049</td>\n",
       "    </tr>\n",
       "    <tr>\n",
       "      <th>4</th>\n",
       "      <td>130797</td>\n",
       "      <td>Ann</td>\n",
       "      <td>Gilmore</td>\n",
       "      <td>Female</td>\n",
       "      <td>Maryland</td>\n",
       "      <td>26</td>\n",
       "      <td>1/1/2017</td>\n",
       "      <td>1</td>\n",
       "      <td>married</td>\n",
       "      <td>40374</td>\n",
       "    </tr>\n",
       "  </tbody>\n",
       "</table>\n",
       "</div>"
      ],
      "text/plain": [
       "   user_id First Name    Surnam  Gender       STATE  Age date_joined  \\\n",
       "0    26711    Deborah  Esquivel  Female    Missouri   48    1/1/2017   \n",
       "1    33890   Patricia      Hart  Female  New Mexico   36    1/1/2017   \n",
       "2    65803    Kenneth    Farley    Male       Idaho   35    1/1/2017   \n",
       "3   125935   Michelle     Hicks  Female        Iowa   40    1/1/2017   \n",
       "4   130797        Ann   Gilmore  Female    Maryland   26    1/1/2017   \n",
       "\n",
       "   n_dependants fam_status  income  \n",
       "0             3    married  165665  \n",
       "1             0     single   59285  \n",
       "2             2    married   99568  \n",
       "3             0     single   42049  \n",
       "4             1    married   40374  "
      ]
     },
     "execution_count": 22,
     "metadata": {},
     "output_type": "execute_result"
    }
   ],
   "source": [
    "# Check the output\n",
    "df_custs.head()"
   ]
  },
  {
   "cell_type": "code",
   "execution_count": 23,
   "id": "ce2831fc",
   "metadata": {},
   "outputs": [
    {
     "data": {
      "text/plain": [
       "count    206209.000000\n",
       "mean         49.501646\n",
       "std          18.480962\n",
       "min          18.000000\n",
       "25%          33.000000\n",
       "50%          49.000000\n",
       "75%          66.000000\n",
       "max          81.000000\n",
       "Name: Age, dtype: float64"
      ]
     },
     "execution_count": 23,
     "metadata": {},
     "output_type": "execute_result"
    }
   ],
   "source": [
    "# Obtain age statistics\n",
    "df_custs['Age'].describe()"
   ]
  },
  {
   "cell_type": "code",
   "execution_count": 24,
   "id": "54ab4368",
   "metadata": {},
   "outputs": [
    {
     "data": {
      "text/plain": [
       "count    206209.000000\n",
       "mean      94632.852548\n",
       "std       42473.786988\n",
       "min       25903.000000\n",
       "25%       59874.000000\n",
       "50%       93547.000000\n",
       "75%      124244.000000\n",
       "max      593901.000000\n",
       "Name: income, dtype: float64"
      ]
     },
     "execution_count": 24,
     "metadata": {},
     "output_type": "execute_result"
    }
   ],
   "source": [
    "# Obtain income statistics\n",
    "df_custs['income'].describe()"
   ]
  },
  {
   "cell_type": "code",
   "execution_count": 25,
   "id": "6dad333c",
   "metadata": {},
   "outputs": [
    {
     "data": {
      "text/plain": [
       "count    206209.000000\n",
       "mean          1.499823\n",
       "std           1.118433\n",
       "min           0.000000\n",
       "25%           0.000000\n",
       "50%           1.000000\n",
       "75%           3.000000\n",
       "max           3.000000\n",
       "Name: n_dependants, dtype: float64"
      ]
     },
     "execution_count": 25,
     "metadata": {},
     "output_type": "execute_result"
    }
   ],
   "source": [
    "# Obtain number_of_dependants statistics\n",
    "df_custs['n_dependants'].describe()"
   ]
  },
  {
   "cell_type": "markdown",
   "id": "f6287baf",
   "metadata": {},
   "source": [
    "The median age is 49. This value will be used to divide the customers into two age groups:\n",
    "- Young (49 or younger)\n",
    "- Old (older than 49)\n",
    "\n",
    "The 25th percentile of income is 59,874, and the 75th percentile of income is 124,244. These two values will be used to divide the customers into three income levels:\n",
    "- Low income (below 59,874)\n",
    "- Mid income (59,874 to 124,244)\n",
    "- High income (above 124,244)\n",
    "\n",
    "Customers have 0, 1, 2, or 3 dependants. These values will be used to divide the customers into two groups:\n",
    "- Adult (Has 0 dependants)\n",
    "- Parent (Has at least 1 dependant)\n",
    "\n",
    "#### The profile flag will be created as follows:\n",
    "\n",
    "- Young, low income adult\n",
    "- Young, low income parent\n",
    "- Young, mid income adult\n",
    "- Young, mid income adult parent\n",
    "- Young, high income adult\n",
    "- Young, high income parent\n",
    "- Old, low income adult\n",
    "- Old, low income parent\n",
    "- Old, mid income adult\n",
    "- Old, mid income adult parent\n",
    "- Old, high income adult\n",
    "- Old, high income parent"
   ]
  },
  {
   "cell_type": "code",
   "execution_count": 26,
   "id": "32389923",
   "metadata": {},
   "outputs": [],
   "source": [
    "# Create 'profile' column that assigns 'Young, low income adult' label\n",
    "ords_prods_all.loc[(ords_prods_all['age'] <= 49) & (ords_prods_all['income'] < 59874) & (ords_prods_all['number_of_dependants'] == 0), 'profile'] = 'Young, low income adult'"
   ]
  },
  {
   "cell_type": "code",
   "execution_count": 27,
   "id": "a9683c43",
   "metadata": {},
   "outputs": [],
   "source": [
    "# Create 'profile' column that assigns 'Young, low income parent' label\n",
    "ords_prods_all.loc[(ords_prods_all['age'] <= 49) & (ords_prods_all['income'] < 59874) & (ords_prods_all['number_of_dependants'].isin([1, 2, 3])), 'profile'] = 'Young, low income parent'"
   ]
  },
  {
   "cell_type": "code",
   "execution_count": 28,
   "id": "99e62a92",
   "metadata": {},
   "outputs": [],
   "source": [
    "# Create 'profile' column that assigns 'Young, mid income adult' label\n",
    "ords_prods_all.loc[(ords_prods_all['age'] <= 49) & (ords_prods_all['income'] >= 59874) & (ords_prods_all['income'] <= 124244) & (ords_prods_all['number_of_dependants'] == 0), 'profile'] = 'Young, mid income adult'"
   ]
  },
  {
   "cell_type": "code",
   "execution_count": 29,
   "id": "7555fa66",
   "metadata": {},
   "outputs": [],
   "source": [
    "# Create 'profile' column that assigns 'Young, mid income parent' label\n",
    "ords_prods_all.loc[(ords_prods_all['age'] <= 49) & (ords_prods_all['income'] >= 59874) & (ords_prods_all['income'] <= 124244) & (ords_prods_all['number_of_dependants'].isin([1, 2, 3])), 'profile'] = 'Young, mid income parent'"
   ]
  },
  {
   "cell_type": "code",
   "execution_count": 30,
   "id": "bc90a349",
   "metadata": {},
   "outputs": [],
   "source": [
    "# Create 'profile' column that assigns 'Young, high income adult' label\n",
    "ords_prods_all.loc[(ords_prods_all['age'] <= 49) & (ords_prods_all['income'] > 124244) & (ords_prods_all['number_of_dependants'] == 0), 'profile'] = 'Young, high income adult'"
   ]
  },
  {
   "cell_type": "code",
   "execution_count": 31,
   "id": "21ba3392",
   "metadata": {},
   "outputs": [],
   "source": [
    "# Create 'profile' column that assigns 'Young, high income parent' label\n",
    "ords_prods_all.loc[(ords_prods_all['age'] <= 49) & (ords_prods_all['income'] > 124244) & (ords_prods_all['number_of_dependants'].isin([1, 2, 3])), 'profile'] = 'Young, high income parent'"
   ]
  },
  {
   "cell_type": "code",
   "execution_count": 32,
   "id": "67492a6c",
   "metadata": {},
   "outputs": [],
   "source": [
    "# Create 'profile' column that assigns 'Old, low income adult' label\n",
    "ords_prods_all.loc[(ords_prods_all['age'] > 49) & (ords_prods_all['income'] < 59874) & (ords_prods_all['number_of_dependants'] == 0), 'profile'] = 'Old, low income adult'"
   ]
  },
  {
   "cell_type": "code",
   "execution_count": 33,
   "id": "4f333920",
   "metadata": {},
   "outputs": [],
   "source": [
    "# Create 'profile' column that assigns 'Old, low income parent' label\n",
    "ords_prods_all.loc[(ords_prods_all['age'] > 49) & (ords_prods_all['income'] < 59874) & (ords_prods_all['number_of_dependants'].isin([1, 2, 3])), 'profile'] = 'Old, low income parent'"
   ]
  },
  {
   "cell_type": "code",
   "execution_count": 34,
   "id": "0a8174f9",
   "metadata": {},
   "outputs": [],
   "source": [
    "# Create 'profile' column that assigns 'Old, mid income adult' label\n",
    "ords_prods_all.loc[(ords_prods_all['age'] > 49) & (ords_prods_all['income'] >= 59874) & (ords_prods_all['income'] <= 124244) & (ords_prods_all['number_of_dependants'] == 0), 'profile'] = 'Old, mid income adult'"
   ]
  },
  {
   "cell_type": "code",
   "execution_count": 35,
   "id": "9162b270",
   "metadata": {},
   "outputs": [],
   "source": [
    "# Create 'profile' columnm that assigns 'Old, mid income parent' label\n",
    "ords_prods_all.loc[(ords_prods_all['age'] > 49) & (ords_prods_all['income'] >= 59874) & (ords_prods_all['income'] <= 124244) & (ords_prods_all['number_of_dependants'].isin([1, 2, 3])), 'profile'] = 'Old, mid income parent'"
   ]
  },
  {
   "cell_type": "code",
   "execution_count": 36,
   "id": "0ae2ca83",
   "metadata": {},
   "outputs": [],
   "source": [
    "# Create 'profile' column that assigns 'Old, high income adult' label\n",
    "ords_prods_all.loc[(ords_prods_all['age'] > 49) & (ords_prods_all['income'] > 124244) & (ords_prods_all['number_of_dependants'] == 0), 'profile'] = 'Old, high income adult'"
   ]
  },
  {
   "cell_type": "code",
   "execution_count": 37,
   "id": "fbb43090",
   "metadata": {},
   "outputs": [],
   "source": [
    "# Create 'profile' column that assigns 'Old, high income parent' label\n",
    "ords_prods_all.loc[(ords_prods_all['age'] > 49) & (ords_prods_all['income'] > 124244) & (ords_prods_all['number_of_dependants'].isin([1, 2, 3])), 'profile'] = 'Old, high income parent'"
   ]
  },
  {
   "cell_type": "code",
   "execution_count": 38,
   "id": "06e08a1a",
   "metadata": {},
   "outputs": [
    {
     "data": {
      "text/plain": [
       "Young, mid income parent     7163135\n",
       "Old, mid income parent       5449230\n",
       "Old, high income parent      4793834\n",
       "Young, low income parent     3024979\n",
       "Young, mid income adult      2367644\n",
       "Old, mid income adult        1803420\n",
       "Old, high income adult       1633099\n",
       "Young, high income parent    1485866\n",
       "Old, low income parent       1307839\n",
       "Young, low income adult      1011723\n",
       "Young, high income adult      494942\n",
       "Old, low income adult         428853\n",
       "Name: profile, dtype: int64"
      ]
     },
     "execution_count": 38,
     "metadata": {},
     "output_type": "execute_result"
    }
   ],
   "source": [
    "# Obtain frequencies of 'profile' column\n",
    "ords_prods_all['profile'].value_counts(dropna = False)"
   ]
  },
  {
   "cell_type": "code",
   "execution_count": 39,
   "id": "867d1ffd",
   "metadata": {},
   "outputs": [
    {
     "data": {
      "text/html": [
       "<div>\n",
       "<style scoped>\n",
       "    .dataframe tbody tr th:only-of-type {\n",
       "        vertical-align: middle;\n",
       "    }\n",
       "\n",
       "    .dataframe tbody tr th {\n",
       "        vertical-align: top;\n",
       "    }\n",
       "\n",
       "    .dataframe thead th {\n",
       "        text-align: right;\n",
       "    }\n",
       "</style>\n",
       "<table border=\"1\" class=\"dataframe\">\n",
       "  <thead>\n",
       "    <tr style=\"text-align: right;\">\n",
       "      <th></th>\n",
       "      <th>order_id</th>\n",
       "      <th>user_id</th>\n",
       "      <th>order_number</th>\n",
       "      <th>orders_day_of_week</th>\n",
       "      <th>order_hour_of_day</th>\n",
       "      <th>days_since_prior_order</th>\n",
       "      <th>product_id</th>\n",
       "      <th>add_to_cart_order</th>\n",
       "      <th>reordered</th>\n",
       "      <th>product_name</th>\n",
       "      <th>aisle_id</th>\n",
       "      <th>department_id</th>\n",
       "      <th>prices</th>\n",
       "      <th>price_range</th>\n",
       "      <th>busiest_days</th>\n",
       "      <th>busiest_period_of_day</th>\n",
       "      <th>max_order</th>\n",
       "      <th>loyalty_label</th>\n",
       "      <th>mean_spent</th>\n",
       "      <th>spender_label</th>\n",
       "      <th>median_days_since_prior_order</th>\n",
       "      <th>customer_frequency_level</th>\n",
       "      <th>state</th>\n",
       "      <th>age</th>\n",
       "      <th>number_of_dependants</th>\n",
       "      <th>marital_status</th>\n",
       "      <th>income</th>\n",
       "      <th>region</th>\n",
       "      <th>profile</th>\n",
       "    </tr>\n",
       "  </thead>\n",
       "  <tbody>\n",
       "    <tr>\n",
       "      <th>0</th>\n",
       "      <td>2539329</td>\n",
       "      <td>1</td>\n",
       "      <td>1</td>\n",
       "      <td>2</td>\n",
       "      <td>8</td>\n",
       "      <td>NaN</td>\n",
       "      <td>196</td>\n",
       "      <td>1</td>\n",
       "      <td>0</td>\n",
       "      <td>Soda</td>\n",
       "      <td>77</td>\n",
       "      <td>7</td>\n",
       "      <td>9.0</td>\n",
       "      <td>Mid-range product</td>\n",
       "      <td>Regularly busy</td>\n",
       "      <td>Average orders</td>\n",
       "      <td>10</td>\n",
       "      <td>New customer</td>\n",
       "      <td>6.367797</td>\n",
       "      <td>Low spender</td>\n",
       "      <td>20.5</td>\n",
       "      <td>Non-frequent customer</td>\n",
       "      <td>Alabama</td>\n",
       "      <td>31</td>\n",
       "      <td>3</td>\n",
       "      <td>married</td>\n",
       "      <td>40423</td>\n",
       "      <td>South</td>\n",
       "      <td>Young, low income parent</td>\n",
       "    </tr>\n",
       "    <tr>\n",
       "      <th>1</th>\n",
       "      <td>2398795</td>\n",
       "      <td>1</td>\n",
       "      <td>2</td>\n",
       "      <td>3</td>\n",
       "      <td>7</td>\n",
       "      <td>15.0</td>\n",
       "      <td>196</td>\n",
       "      <td>1</td>\n",
       "      <td>1</td>\n",
       "      <td>Soda</td>\n",
       "      <td>77</td>\n",
       "      <td>7</td>\n",
       "      <td>9.0</td>\n",
       "      <td>Mid-range product</td>\n",
       "      <td>Least busy</td>\n",
       "      <td>Average orders</td>\n",
       "      <td>10</td>\n",
       "      <td>New customer</td>\n",
       "      <td>6.367797</td>\n",
       "      <td>Low spender</td>\n",
       "      <td>20.5</td>\n",
       "      <td>Non-frequent customer</td>\n",
       "      <td>Alabama</td>\n",
       "      <td>31</td>\n",
       "      <td>3</td>\n",
       "      <td>married</td>\n",
       "      <td>40423</td>\n",
       "      <td>South</td>\n",
       "      <td>Young, low income parent</td>\n",
       "    </tr>\n",
       "    <tr>\n",
       "      <th>2</th>\n",
       "      <td>473747</td>\n",
       "      <td>1</td>\n",
       "      <td>3</td>\n",
       "      <td>3</td>\n",
       "      <td>12</td>\n",
       "      <td>21.0</td>\n",
       "      <td>196</td>\n",
       "      <td>1</td>\n",
       "      <td>1</td>\n",
       "      <td>Soda</td>\n",
       "      <td>77</td>\n",
       "      <td>7</td>\n",
       "      <td>9.0</td>\n",
       "      <td>Mid-range product</td>\n",
       "      <td>Least busy</td>\n",
       "      <td>Most orders</td>\n",
       "      <td>10</td>\n",
       "      <td>New customer</td>\n",
       "      <td>6.367797</td>\n",
       "      <td>Low spender</td>\n",
       "      <td>20.5</td>\n",
       "      <td>Non-frequent customer</td>\n",
       "      <td>Alabama</td>\n",
       "      <td>31</td>\n",
       "      <td>3</td>\n",
       "      <td>married</td>\n",
       "      <td>40423</td>\n",
       "      <td>South</td>\n",
       "      <td>Young, low income parent</td>\n",
       "    </tr>\n",
       "    <tr>\n",
       "      <th>3</th>\n",
       "      <td>2254736</td>\n",
       "      <td>1</td>\n",
       "      <td>4</td>\n",
       "      <td>4</td>\n",
       "      <td>7</td>\n",
       "      <td>29.0</td>\n",
       "      <td>196</td>\n",
       "      <td>1</td>\n",
       "      <td>1</td>\n",
       "      <td>Soda</td>\n",
       "      <td>77</td>\n",
       "      <td>7</td>\n",
       "      <td>9.0</td>\n",
       "      <td>Mid-range product</td>\n",
       "      <td>Least busy</td>\n",
       "      <td>Average orders</td>\n",
       "      <td>10</td>\n",
       "      <td>New customer</td>\n",
       "      <td>6.367797</td>\n",
       "      <td>Low spender</td>\n",
       "      <td>20.5</td>\n",
       "      <td>Non-frequent customer</td>\n",
       "      <td>Alabama</td>\n",
       "      <td>31</td>\n",
       "      <td>3</td>\n",
       "      <td>married</td>\n",
       "      <td>40423</td>\n",
       "      <td>South</td>\n",
       "      <td>Young, low income parent</td>\n",
       "    </tr>\n",
       "    <tr>\n",
       "      <th>4</th>\n",
       "      <td>431534</td>\n",
       "      <td>1</td>\n",
       "      <td>5</td>\n",
       "      <td>4</td>\n",
       "      <td>15</td>\n",
       "      <td>28.0</td>\n",
       "      <td>196</td>\n",
       "      <td>1</td>\n",
       "      <td>1</td>\n",
       "      <td>Soda</td>\n",
       "      <td>77</td>\n",
       "      <td>7</td>\n",
       "      <td>9.0</td>\n",
       "      <td>Mid-range product</td>\n",
       "      <td>Least busy</td>\n",
       "      <td>Most orders</td>\n",
       "      <td>10</td>\n",
       "      <td>New customer</td>\n",
       "      <td>6.367797</td>\n",
       "      <td>Low spender</td>\n",
       "      <td>20.5</td>\n",
       "      <td>Non-frequent customer</td>\n",
       "      <td>Alabama</td>\n",
       "      <td>31</td>\n",
       "      <td>3</td>\n",
       "      <td>married</td>\n",
       "      <td>40423</td>\n",
       "      <td>South</td>\n",
       "      <td>Young, low income parent</td>\n",
       "    </tr>\n",
       "  </tbody>\n",
       "</table>\n",
       "</div>"
      ],
      "text/plain": [
       "   order_id  user_id  order_number  orders_day_of_week  order_hour_of_day  \\\n",
       "0   2539329        1             1                   2                  8   \n",
       "1   2398795        1             2                   3                  7   \n",
       "2    473747        1             3                   3                 12   \n",
       "3   2254736        1             4                   4                  7   \n",
       "4    431534        1             5                   4                 15   \n",
       "\n",
       "   days_since_prior_order  product_id  add_to_cart_order  reordered  \\\n",
       "0                     NaN         196                  1          0   \n",
       "1                    15.0         196                  1          1   \n",
       "2                    21.0         196                  1          1   \n",
       "3                    29.0         196                  1          1   \n",
       "4                    28.0         196                  1          1   \n",
       "\n",
       "  product_name  aisle_id  department_id  prices        price_range  \\\n",
       "0         Soda        77              7     9.0  Mid-range product   \n",
       "1         Soda        77              7     9.0  Mid-range product   \n",
       "2         Soda        77              7     9.0  Mid-range product   \n",
       "3         Soda        77              7     9.0  Mid-range product   \n",
       "4         Soda        77              7     9.0  Mid-range product   \n",
       "\n",
       "     busiest_days busiest_period_of_day  max_order loyalty_label  mean_spent  \\\n",
       "0  Regularly busy        Average orders         10  New customer    6.367797   \n",
       "1      Least busy        Average orders         10  New customer    6.367797   \n",
       "2      Least busy           Most orders         10  New customer    6.367797   \n",
       "3      Least busy        Average orders         10  New customer    6.367797   \n",
       "4      Least busy           Most orders         10  New customer    6.367797   \n",
       "\n",
       "  spender_label  median_days_since_prior_order customer_frequency_level  \\\n",
       "0   Low spender                           20.5    Non-frequent customer   \n",
       "1   Low spender                           20.5    Non-frequent customer   \n",
       "2   Low spender                           20.5    Non-frequent customer   \n",
       "3   Low spender                           20.5    Non-frequent customer   \n",
       "4   Low spender                           20.5    Non-frequent customer   \n",
       "\n",
       "     state  age  number_of_dependants marital_status  income region  \\\n",
       "0  Alabama   31                     3        married   40423  South   \n",
       "1  Alabama   31                     3        married   40423  South   \n",
       "2  Alabama   31                     3        married   40423  South   \n",
       "3  Alabama   31                     3        married   40423  South   \n",
       "4  Alabama   31                     3        married   40423  South   \n",
       "\n",
       "                    profile  \n",
       "0  Young, low income parent  \n",
       "1  Young, low income parent  \n",
       "2  Young, low income parent  \n",
       "3  Young, low income parent  \n",
       "4  Young, low income parent  "
      ]
     },
     "execution_count": 39,
     "metadata": {},
     "output_type": "execute_result"
    }
   ],
   "source": [
    "# Check the output\n",
    "ords_prods_all.head()"
   ]
  },
  {
   "cell_type": "code",
   "execution_count": 40,
   "id": "805cdcce",
   "metadata": {},
   "outputs": [
    {
     "data": {
      "text/plain": [
       "(30964564, 29)"
      ]
     },
     "execution_count": 40,
     "metadata": {},
     "output_type": "execute_result"
    }
   ],
   "source": [
    "ords_prods_all.shape"
   ]
  },
  {
   "cell_type": "markdown",
   "id": "b2f9bd55",
   "metadata": {},
   "source": [
    "#### Create goods_type flag"
   ]
  },
  {
   "cell_type": "code",
   "execution_count": 41,
   "id": "d5f7c34c",
   "metadata": {},
   "outputs": [],
   "source": [
    "# Import the “departments_wrangled.csv” data set using the os library\n",
    "df_depts = pd.read_csv(os.path.join(path, '02 Data', 'Prepared Data', 'departments_wrangled.csv'))"
   ]
  },
  {
   "cell_type": "code",
   "execution_count": 42,
   "id": "d865ba98",
   "metadata": {},
   "outputs": [
    {
     "data": {
      "text/html": [
       "<div>\n",
       "<style scoped>\n",
       "    .dataframe tbody tr th:only-of-type {\n",
       "        vertical-align: middle;\n",
       "    }\n",
       "\n",
       "    .dataframe tbody tr th {\n",
       "        vertical-align: top;\n",
       "    }\n",
       "\n",
       "    .dataframe thead th {\n",
       "        text-align: right;\n",
       "    }\n",
       "</style>\n",
       "<table border=\"1\" class=\"dataframe\">\n",
       "  <thead>\n",
       "    <tr style=\"text-align: right;\">\n",
       "      <th></th>\n",
       "      <th>Unnamed: 0</th>\n",
       "      <th>department</th>\n",
       "    </tr>\n",
       "  </thead>\n",
       "  <tbody>\n",
       "    <tr>\n",
       "      <th>0</th>\n",
       "      <td>1</td>\n",
       "      <td>frozen</td>\n",
       "    </tr>\n",
       "    <tr>\n",
       "      <th>1</th>\n",
       "      <td>2</td>\n",
       "      <td>other</td>\n",
       "    </tr>\n",
       "    <tr>\n",
       "      <th>2</th>\n",
       "      <td>3</td>\n",
       "      <td>bakery</td>\n",
       "    </tr>\n",
       "    <tr>\n",
       "      <th>3</th>\n",
       "      <td>4</td>\n",
       "      <td>produce</td>\n",
       "    </tr>\n",
       "    <tr>\n",
       "      <th>4</th>\n",
       "      <td>5</td>\n",
       "      <td>alcohol</td>\n",
       "    </tr>\n",
       "    <tr>\n",
       "      <th>5</th>\n",
       "      <td>6</td>\n",
       "      <td>international</td>\n",
       "    </tr>\n",
       "    <tr>\n",
       "      <th>6</th>\n",
       "      <td>7</td>\n",
       "      <td>beverages</td>\n",
       "    </tr>\n",
       "    <tr>\n",
       "      <th>7</th>\n",
       "      <td>8</td>\n",
       "      <td>pets</td>\n",
       "    </tr>\n",
       "    <tr>\n",
       "      <th>8</th>\n",
       "      <td>9</td>\n",
       "      <td>dry goods pasta</td>\n",
       "    </tr>\n",
       "    <tr>\n",
       "      <th>9</th>\n",
       "      <td>10</td>\n",
       "      <td>bulk</td>\n",
       "    </tr>\n",
       "    <tr>\n",
       "      <th>10</th>\n",
       "      <td>11</td>\n",
       "      <td>personal care</td>\n",
       "    </tr>\n",
       "    <tr>\n",
       "      <th>11</th>\n",
       "      <td>12</td>\n",
       "      <td>meat seafood</td>\n",
       "    </tr>\n",
       "    <tr>\n",
       "      <th>12</th>\n",
       "      <td>13</td>\n",
       "      <td>pantry</td>\n",
       "    </tr>\n",
       "    <tr>\n",
       "      <th>13</th>\n",
       "      <td>14</td>\n",
       "      <td>breakfast</td>\n",
       "    </tr>\n",
       "    <tr>\n",
       "      <th>14</th>\n",
       "      <td>15</td>\n",
       "      <td>canned goods</td>\n",
       "    </tr>\n",
       "    <tr>\n",
       "      <th>15</th>\n",
       "      <td>16</td>\n",
       "      <td>dairy eggs</td>\n",
       "    </tr>\n",
       "    <tr>\n",
       "      <th>16</th>\n",
       "      <td>17</td>\n",
       "      <td>household</td>\n",
       "    </tr>\n",
       "    <tr>\n",
       "      <th>17</th>\n",
       "      <td>18</td>\n",
       "      <td>babies</td>\n",
       "    </tr>\n",
       "    <tr>\n",
       "      <th>18</th>\n",
       "      <td>19</td>\n",
       "      <td>snacks</td>\n",
       "    </tr>\n",
       "    <tr>\n",
       "      <th>19</th>\n",
       "      <td>20</td>\n",
       "      <td>deli</td>\n",
       "    </tr>\n",
       "    <tr>\n",
       "      <th>20</th>\n",
       "      <td>21</td>\n",
       "      <td>missing</td>\n",
       "    </tr>\n",
       "  </tbody>\n",
       "</table>\n",
       "</div>"
      ],
      "text/plain": [
       "    Unnamed: 0       department\n",
       "0            1           frozen\n",
       "1            2            other\n",
       "2            3           bakery\n",
       "3            4          produce\n",
       "4            5          alcohol\n",
       "5            6    international\n",
       "6            7        beverages\n",
       "7            8             pets\n",
       "8            9  dry goods pasta\n",
       "9           10             bulk\n",
       "10          11    personal care\n",
       "11          12     meat seafood\n",
       "12          13           pantry\n",
       "13          14        breakfast\n",
       "14          15     canned goods\n",
       "15          16       dairy eggs\n",
       "16          17        household\n",
       "17          18           babies\n",
       "18          19           snacks\n",
       "19          20             deli\n",
       "20          21          missing"
      ]
     },
     "execution_count": 42,
     "metadata": {},
     "output_type": "execute_result"
    }
   ],
   "source": [
    "# check the output\n",
    "df_depts"
   ]
  },
  {
   "cell_type": "markdown",
   "id": "8e70669d",
   "metadata": {},
   "source": [
    "Based on the varying departments, goods will divided into five groups:\n",
    "- Perishable foods (1, 3, 4, 12, 14, 16, 20) \n",
    "- Non-perishable foods (9, 13, 15, 19)\n",
    "- Drinks (5, 7)\n",
    "- Family care (8, 11, 17, 18)\n",
    "- Miscellaneous (2, 6, 10, 21)"
   ]
  },
  {
   "cell_type": "code",
   "execution_count": 43,
   "id": "e5975f8b",
   "metadata": {},
   "outputs": [],
   "source": [
    "# Create 'goods_type' column that assigns 'Perishable foods' label\n",
    "ords_prods_all.loc[ords_prods_all['department_id'].isin([1, 3, 4, 12, 14, 16, 20]), 'goods_type'] = 'Perishable foods'"
   ]
  },
  {
   "cell_type": "code",
   "execution_count": 44,
   "id": "e89a30a1",
   "metadata": {},
   "outputs": [],
   "source": [
    "# Create 'goods_type' column that assigns 'Non-perishable foods' label\n",
    "ords_prods_all.loc[ords_prods_all['department_id'].isin([9, 13, 15, 19]), 'goods_type'] = 'Non-perishable foods'"
   ]
  },
  {
   "cell_type": "code",
   "execution_count": 45,
   "id": "0069c099",
   "metadata": {},
   "outputs": [],
   "source": [
    "# Create 'goods_type' column that assigns 'Drinks' label\n",
    "ords_prods_all.loc[ords_prods_all['department_id'].isin([5, 7]), 'goods_type'] = 'Drinks'"
   ]
  },
  {
   "cell_type": "code",
   "execution_count": 46,
   "id": "6dde8f14",
   "metadata": {},
   "outputs": [],
   "source": [
    "# Create 'goods_type' column that assigns 'Home care' label\n",
    "ords_prods_all.loc[ords_prods_all['department_id'].isin([8, 11, 17, 18]), 'goods_type'] = 'Home care'"
   ]
  },
  {
   "cell_type": "code",
   "execution_count": 47,
   "id": "d77ed74e",
   "metadata": {},
   "outputs": [],
   "source": [
    "# Create 'goods_type' column that assigns 'Miscellaneous' label\n",
    "ords_prods_all.loc[ords_prods_all['department_id'].isin([2, 6, 10, 21]), 'goods_type'] = 'Miscellaneous'"
   ]
  },
  {
   "cell_type": "code",
   "execution_count": 48,
   "id": "f9ba2705",
   "metadata": {},
   "outputs": [
    {
     "data": {
      "text/plain": [
       "Perishable foods        19848479\n",
       "Non-perishable foods     6383321\n",
       "Drinks                   2716528\n",
       "Home care                1627615\n",
       "Miscellaneous             388621\n",
       "Name: goods_type, dtype: int64"
      ]
     },
     "execution_count": 48,
     "metadata": {},
     "output_type": "execute_result"
    }
   ],
   "source": [
    "# Obtain frequencies of 'goods_type' column\n",
    "ords_prods_all['goods_type'].value_counts(dropna = False)"
   ]
  },
  {
   "cell_type": "code",
   "execution_count": 49,
   "id": "fc677f21",
   "metadata": {},
   "outputs": [
    {
     "data": {
      "text/html": [
       "<div>\n",
       "<style scoped>\n",
       "    .dataframe tbody tr th:only-of-type {\n",
       "        vertical-align: middle;\n",
       "    }\n",
       "\n",
       "    .dataframe tbody tr th {\n",
       "        vertical-align: top;\n",
       "    }\n",
       "\n",
       "    .dataframe thead th {\n",
       "        text-align: right;\n",
       "    }\n",
       "</style>\n",
       "<table border=\"1\" class=\"dataframe\">\n",
       "  <thead>\n",
       "    <tr style=\"text-align: right;\">\n",
       "      <th></th>\n",
       "      <th>order_id</th>\n",
       "      <th>user_id</th>\n",
       "      <th>order_number</th>\n",
       "      <th>orders_day_of_week</th>\n",
       "      <th>order_hour_of_day</th>\n",
       "      <th>days_since_prior_order</th>\n",
       "      <th>product_id</th>\n",
       "      <th>add_to_cart_order</th>\n",
       "      <th>reordered</th>\n",
       "      <th>product_name</th>\n",
       "      <th>aisle_id</th>\n",
       "      <th>department_id</th>\n",
       "      <th>prices</th>\n",
       "      <th>price_range</th>\n",
       "      <th>busiest_days</th>\n",
       "      <th>busiest_period_of_day</th>\n",
       "      <th>max_order</th>\n",
       "      <th>loyalty_label</th>\n",
       "      <th>mean_spent</th>\n",
       "      <th>spender_label</th>\n",
       "      <th>median_days_since_prior_order</th>\n",
       "      <th>customer_frequency_level</th>\n",
       "      <th>state</th>\n",
       "      <th>age</th>\n",
       "      <th>number_of_dependants</th>\n",
       "      <th>marital_status</th>\n",
       "      <th>income</th>\n",
       "      <th>region</th>\n",
       "      <th>profile</th>\n",
       "      <th>goods_type</th>\n",
       "    </tr>\n",
       "  </thead>\n",
       "  <tbody>\n",
       "    <tr>\n",
       "      <th>0</th>\n",
       "      <td>2539329</td>\n",
       "      <td>1</td>\n",
       "      <td>1</td>\n",
       "      <td>2</td>\n",
       "      <td>8</td>\n",
       "      <td>NaN</td>\n",
       "      <td>196</td>\n",
       "      <td>1</td>\n",
       "      <td>0</td>\n",
       "      <td>Soda</td>\n",
       "      <td>77</td>\n",
       "      <td>7</td>\n",
       "      <td>9.0</td>\n",
       "      <td>Mid-range product</td>\n",
       "      <td>Regularly busy</td>\n",
       "      <td>Average orders</td>\n",
       "      <td>10</td>\n",
       "      <td>New customer</td>\n",
       "      <td>6.367797</td>\n",
       "      <td>Low spender</td>\n",
       "      <td>20.5</td>\n",
       "      <td>Non-frequent customer</td>\n",
       "      <td>Alabama</td>\n",
       "      <td>31</td>\n",
       "      <td>3</td>\n",
       "      <td>married</td>\n",
       "      <td>40423</td>\n",
       "      <td>South</td>\n",
       "      <td>Young, low income parent</td>\n",
       "      <td>Drinks</td>\n",
       "    </tr>\n",
       "    <tr>\n",
       "      <th>1</th>\n",
       "      <td>2398795</td>\n",
       "      <td>1</td>\n",
       "      <td>2</td>\n",
       "      <td>3</td>\n",
       "      <td>7</td>\n",
       "      <td>15.0</td>\n",
       "      <td>196</td>\n",
       "      <td>1</td>\n",
       "      <td>1</td>\n",
       "      <td>Soda</td>\n",
       "      <td>77</td>\n",
       "      <td>7</td>\n",
       "      <td>9.0</td>\n",
       "      <td>Mid-range product</td>\n",
       "      <td>Least busy</td>\n",
       "      <td>Average orders</td>\n",
       "      <td>10</td>\n",
       "      <td>New customer</td>\n",
       "      <td>6.367797</td>\n",
       "      <td>Low spender</td>\n",
       "      <td>20.5</td>\n",
       "      <td>Non-frequent customer</td>\n",
       "      <td>Alabama</td>\n",
       "      <td>31</td>\n",
       "      <td>3</td>\n",
       "      <td>married</td>\n",
       "      <td>40423</td>\n",
       "      <td>South</td>\n",
       "      <td>Young, low income parent</td>\n",
       "      <td>Drinks</td>\n",
       "    </tr>\n",
       "    <tr>\n",
       "      <th>2</th>\n",
       "      <td>473747</td>\n",
       "      <td>1</td>\n",
       "      <td>3</td>\n",
       "      <td>3</td>\n",
       "      <td>12</td>\n",
       "      <td>21.0</td>\n",
       "      <td>196</td>\n",
       "      <td>1</td>\n",
       "      <td>1</td>\n",
       "      <td>Soda</td>\n",
       "      <td>77</td>\n",
       "      <td>7</td>\n",
       "      <td>9.0</td>\n",
       "      <td>Mid-range product</td>\n",
       "      <td>Least busy</td>\n",
       "      <td>Most orders</td>\n",
       "      <td>10</td>\n",
       "      <td>New customer</td>\n",
       "      <td>6.367797</td>\n",
       "      <td>Low spender</td>\n",
       "      <td>20.5</td>\n",
       "      <td>Non-frequent customer</td>\n",
       "      <td>Alabama</td>\n",
       "      <td>31</td>\n",
       "      <td>3</td>\n",
       "      <td>married</td>\n",
       "      <td>40423</td>\n",
       "      <td>South</td>\n",
       "      <td>Young, low income parent</td>\n",
       "      <td>Drinks</td>\n",
       "    </tr>\n",
       "    <tr>\n",
       "      <th>3</th>\n",
       "      <td>2254736</td>\n",
       "      <td>1</td>\n",
       "      <td>4</td>\n",
       "      <td>4</td>\n",
       "      <td>7</td>\n",
       "      <td>29.0</td>\n",
       "      <td>196</td>\n",
       "      <td>1</td>\n",
       "      <td>1</td>\n",
       "      <td>Soda</td>\n",
       "      <td>77</td>\n",
       "      <td>7</td>\n",
       "      <td>9.0</td>\n",
       "      <td>Mid-range product</td>\n",
       "      <td>Least busy</td>\n",
       "      <td>Average orders</td>\n",
       "      <td>10</td>\n",
       "      <td>New customer</td>\n",
       "      <td>6.367797</td>\n",
       "      <td>Low spender</td>\n",
       "      <td>20.5</td>\n",
       "      <td>Non-frequent customer</td>\n",
       "      <td>Alabama</td>\n",
       "      <td>31</td>\n",
       "      <td>3</td>\n",
       "      <td>married</td>\n",
       "      <td>40423</td>\n",
       "      <td>South</td>\n",
       "      <td>Young, low income parent</td>\n",
       "      <td>Drinks</td>\n",
       "    </tr>\n",
       "    <tr>\n",
       "      <th>4</th>\n",
       "      <td>431534</td>\n",
       "      <td>1</td>\n",
       "      <td>5</td>\n",
       "      <td>4</td>\n",
       "      <td>15</td>\n",
       "      <td>28.0</td>\n",
       "      <td>196</td>\n",
       "      <td>1</td>\n",
       "      <td>1</td>\n",
       "      <td>Soda</td>\n",
       "      <td>77</td>\n",
       "      <td>7</td>\n",
       "      <td>9.0</td>\n",
       "      <td>Mid-range product</td>\n",
       "      <td>Least busy</td>\n",
       "      <td>Most orders</td>\n",
       "      <td>10</td>\n",
       "      <td>New customer</td>\n",
       "      <td>6.367797</td>\n",
       "      <td>Low spender</td>\n",
       "      <td>20.5</td>\n",
       "      <td>Non-frequent customer</td>\n",
       "      <td>Alabama</td>\n",
       "      <td>31</td>\n",
       "      <td>3</td>\n",
       "      <td>married</td>\n",
       "      <td>40423</td>\n",
       "      <td>South</td>\n",
       "      <td>Young, low income parent</td>\n",
       "      <td>Drinks</td>\n",
       "    </tr>\n",
       "  </tbody>\n",
       "</table>\n",
       "</div>"
      ],
      "text/plain": [
       "   order_id  user_id  order_number  orders_day_of_week  order_hour_of_day  \\\n",
       "0   2539329        1             1                   2                  8   \n",
       "1   2398795        1             2                   3                  7   \n",
       "2    473747        1             3                   3                 12   \n",
       "3   2254736        1             4                   4                  7   \n",
       "4    431534        1             5                   4                 15   \n",
       "\n",
       "   days_since_prior_order  product_id  add_to_cart_order  reordered  \\\n",
       "0                     NaN         196                  1          0   \n",
       "1                    15.0         196                  1          1   \n",
       "2                    21.0         196                  1          1   \n",
       "3                    29.0         196                  1          1   \n",
       "4                    28.0         196                  1          1   \n",
       "\n",
       "  product_name  aisle_id  department_id  prices        price_range  \\\n",
       "0         Soda        77              7     9.0  Mid-range product   \n",
       "1         Soda        77              7     9.0  Mid-range product   \n",
       "2         Soda        77              7     9.0  Mid-range product   \n",
       "3         Soda        77              7     9.0  Mid-range product   \n",
       "4         Soda        77              7     9.0  Mid-range product   \n",
       "\n",
       "     busiest_days busiest_period_of_day  max_order loyalty_label  mean_spent  \\\n",
       "0  Regularly busy        Average orders         10  New customer    6.367797   \n",
       "1      Least busy        Average orders         10  New customer    6.367797   \n",
       "2      Least busy           Most orders         10  New customer    6.367797   \n",
       "3      Least busy        Average orders         10  New customer    6.367797   \n",
       "4      Least busy           Most orders         10  New customer    6.367797   \n",
       "\n",
       "  spender_label  median_days_since_prior_order customer_frequency_level  \\\n",
       "0   Low spender                           20.5    Non-frequent customer   \n",
       "1   Low spender                           20.5    Non-frequent customer   \n",
       "2   Low spender                           20.5    Non-frequent customer   \n",
       "3   Low spender                           20.5    Non-frequent customer   \n",
       "4   Low spender                           20.5    Non-frequent customer   \n",
       "\n",
       "     state  age  number_of_dependants marital_status  income region  \\\n",
       "0  Alabama   31                     3        married   40423  South   \n",
       "1  Alabama   31                     3        married   40423  South   \n",
       "2  Alabama   31                     3        married   40423  South   \n",
       "3  Alabama   31                     3        married   40423  South   \n",
       "4  Alabama   31                     3        married   40423  South   \n",
       "\n",
       "                    profile goods_type  \n",
       "0  Young, low income parent     Drinks  \n",
       "1  Young, low income parent     Drinks  \n",
       "2  Young, low income parent     Drinks  \n",
       "3  Young, low income parent     Drinks  \n",
       "4  Young, low income parent     Drinks  "
      ]
     },
     "execution_count": 49,
     "metadata": {},
     "output_type": "execute_result"
    }
   ],
   "source": [
    "# Check the output\n",
    "ords_prods_all.head()"
   ]
  },
  {
   "cell_type": "code",
   "execution_count": 50,
   "id": "9ea1b362",
   "metadata": {},
   "outputs": [
    {
     "data": {
      "text/plain": [
       "(30964564, 30)"
      ]
     },
     "execution_count": 50,
     "metadata": {},
     "output_type": "execute_result"
    }
   ],
   "source": [
    "# Check the dimensions\n",
    "ords_prods_all.shape"
   ]
  },
  {
   "cell_type": "markdown",
   "id": "1653e5a4",
   "metadata": {},
   "source": [
    "# 4. Create Visualizations of Customer Profiles"
   ]
  },
  {
   "cell_type": "markdown",
   "id": "194dd7db",
   "metadata": {},
   "source": [
    "#### Create an appropriate visualization to show the distribution of profiles."
   ]
  },
  {
   "cell_type": "code",
   "execution_count": 51,
   "id": "478d02e7",
   "metadata": {},
   "outputs": [
    {
     "data": {
      "text/plain": [
       "<matplotlib.legend.Legend at 0x2282b6093a0>"
      ]
     },
     "execution_count": 51,
     "metadata": {},
     "output_type": "execute_result"
    },
    {
     "data": {
      "image/png": "[encoded data removed]",
      "text/plain": [
       "<Figure size 640x480 with 1 Axes>"
      ]
     },
     "metadata": {},
     "output_type": "display_data"
    }
   ],
   "source": [
    "# Make a pivot table\n",
    "piv1 = ords_prods_all.pivot_table(index='profile', values='prices', aggfunc='mean')\n",
    "\n",
    "# Create a bar chart of the pivot table\n",
    "bar_profile = piv1.sort_values(by='prices', ascending=True).plot.barh(title='Distribution of Sales by Profile', xlabel='Average Sales', ylabel='',)\n",
    "bar_profile.legend('')"
   ]
  },
  {
   "cell_type": "code",
   "execution_count": 52,
   "id": "240011d2",
   "metadata": {},
   "outputs": [],
   "source": [
    "# Export bar_profile chart\n",
    "bar_profile.figure.savefig(os.path.join(path, '04 Analysis','Visualizations', 'bar_profile.png'), bbox_inches='tight')"
   ]
  },
  {
   "cell_type": "code",
   "execution_count": 53,
   "id": "f68b4163",
   "metadata": {},
   "outputs": [
    {
     "data": {
      "image/png": "[encoded data removed]",
      "text/plain": [
       "<Figure size 640x480 with 1 Axes>"
      ]
     },
     "metadata": {},
     "output_type": "display_data"
    }
   ],
   "source": [
    "# Create a bar chart of the goods_type\n",
    "bar_goods = ords_prods_all['goods_type'].value_counts(dropna = False, ascending=True).plot.barh(title = 'Distribution of Orders by Type of Goods', xlabel = 'Number of Orders (ten millions)')"
   ]
  },
  {
   "cell_type": "code",
   "execution_count": 54,
   "id": "b386eadc",
   "metadata": {},
   "outputs": [],
   "source": [
    "# Export bar_goods chart\n",
    "bar_goods.figure.savefig(os.path.join(path, '04 Analysis','Visualizations', 'bar_goods.png'), bbox_inches='tight')"
   ]
  },
  {
   "cell_type": "markdown",
   "id": "301c963c",
   "metadata": {},
   "source": [
    "#### Aggregate the max, mean, and min variables on a customer-profile level for usage frequency and expenditure."
   ]
  },
  {
   "cell_type": "code",
   "execution_count": 55,
   "id": "0f0187f7",
   "metadata": {},
   "outputs": [
    {
     "data": {
      "text/html": [
       "<div>\n",
       "<style scoped>\n",
       "    .dataframe tbody tr th:only-of-type {\n",
       "        vertical-align: middle;\n",
       "    }\n",
       "\n",
       "    .dataframe tbody tr th {\n",
       "        vertical-align: top;\n",
       "    }\n",
       "\n",
       "    .dataframe thead tr th {\n",
       "        text-align: left;\n",
       "    }\n",
       "\n",
       "    .dataframe thead tr:last-of-type th {\n",
       "        text-align: right;\n",
       "    }\n",
       "</style>\n",
       "<table border=\"1\" class=\"dataframe\">\n",
       "  <thead>\n",
       "    <tr>\n",
       "      <th></th>\n",
       "      <th colspan=\"3\" halign=\"left\">prices</th>\n",
       "      <th colspan=\"3\" halign=\"left\">days_since_prior_order</th>\n",
       "    </tr>\n",
       "    <tr>\n",
       "      <th></th>\n",
       "      <th>min</th>\n",
       "      <th>max</th>\n",
       "      <th>mean</th>\n",
       "      <th>min</th>\n",
       "      <th>max</th>\n",
       "      <th>mean</th>\n",
       "    </tr>\n",
       "    <tr>\n",
       "      <th>profile</th>\n",
       "      <th></th>\n",
       "      <th></th>\n",
       "      <th></th>\n",
       "      <th></th>\n",
       "      <th></th>\n",
       "      <th></th>\n",
       "    </tr>\n",
       "  </thead>\n",
       "  <tbody>\n",
       "    <tr>\n",
       "      <th>Old, high income adult</th>\n",
       "      <td>1.0</td>\n",
       "      <td>25.0</td>\n",
       "      <td>7.943386</td>\n",
       "      <td>0.0</td>\n",
       "      <td>30.0</td>\n",
       "      <td>10.615631</td>\n",
       "    </tr>\n",
       "    <tr>\n",
       "      <th>Old, high income parent</th>\n",
       "      <td>1.0</td>\n",
       "      <td>25.0</td>\n",
       "      <td>7.956077</td>\n",
       "      <td>0.0</td>\n",
       "      <td>30.0</td>\n",
       "      <td>10.796776</td>\n",
       "    </tr>\n",
       "    <tr>\n",
       "      <th>Old, low income adult</th>\n",
       "      <td>1.0</td>\n",
       "      <td>25.0</td>\n",
       "      <td>6.516348</td>\n",
       "      <td>0.0</td>\n",
       "      <td>30.0</td>\n",
       "      <td>11.042342</td>\n",
       "    </tr>\n",
       "    <tr>\n",
       "      <th>Old, low income parent</th>\n",
       "      <td>1.0</td>\n",
       "      <td>25.0</td>\n",
       "      <td>6.503874</td>\n",
       "      <td>0.0</td>\n",
       "      <td>30.0</td>\n",
       "      <td>11.140345</td>\n",
       "    </tr>\n",
       "    <tr>\n",
       "      <th>Old, mid income adult</th>\n",
       "      <td>1.0</td>\n",
       "      <td>25.0</td>\n",
       "      <td>7.962071</td>\n",
       "      <td>0.0</td>\n",
       "      <td>30.0</td>\n",
       "      <td>10.736644</td>\n",
       "    </tr>\n",
       "    <tr>\n",
       "      <th>Old, mid income parent</th>\n",
       "      <td>1.0</td>\n",
       "      <td>25.0</td>\n",
       "      <td>7.956082</td>\n",
       "      <td>0.0</td>\n",
       "      <td>30.0</td>\n",
       "      <td>10.818109</td>\n",
       "    </tr>\n",
       "    <tr>\n",
       "      <th>Young, high income adult</th>\n",
       "      <td>1.0</td>\n",
       "      <td>25.0</td>\n",
       "      <td>7.932772</td>\n",
       "      <td>0.0</td>\n",
       "      <td>30.0</td>\n",
       "      <td>10.724513</td>\n",
       "    </tr>\n",
       "    <tr>\n",
       "      <th>Young, high income parent</th>\n",
       "      <td>1.0</td>\n",
       "      <td>25.0</td>\n",
       "      <td>7.948521</td>\n",
       "      <td>0.0</td>\n",
       "      <td>30.0</td>\n",
       "      <td>10.789668</td>\n",
       "    </tr>\n",
       "    <tr>\n",
       "      <th>Young, low income adult</th>\n",
       "      <td>1.0</td>\n",
       "      <td>25.0</td>\n",
       "      <td>7.314102</td>\n",
       "      <td>0.0</td>\n",
       "      <td>30.0</td>\n",
       "      <td>11.129080</td>\n",
       "    </tr>\n",
       "    <tr>\n",
       "      <th>Young, low income parent</th>\n",
       "      <td>1.0</td>\n",
       "      <td>25.0</td>\n",
       "      <td>7.331785</td>\n",
       "      <td>0.0</td>\n",
       "      <td>30.0</td>\n",
       "      <td>10.995059</td>\n",
       "    </tr>\n",
       "    <tr>\n",
       "      <th>Young, mid income adult</th>\n",
       "      <td>1.0</td>\n",
       "      <td>25.0</td>\n",
       "      <td>7.955948</td>\n",
       "      <td>0.0</td>\n",
       "      <td>30.0</td>\n",
       "      <td>10.781116</td>\n",
       "    </tr>\n",
       "    <tr>\n",
       "      <th>Young, mid income parent</th>\n",
       "      <td>1.0</td>\n",
       "      <td>25.0</td>\n",
       "      <td>7.951073</td>\n",
       "      <td>0.0</td>\n",
       "      <td>30.0</td>\n",
       "      <td>10.699760</td>\n",
       "    </tr>\n",
       "  </tbody>\n",
       "</table>\n",
       "</div>"
      ],
      "text/plain": [
       "                          prices                 days_since_prior_order        \\\n",
       "                             min   max      mean                    min   max   \n",
       "profile                                                                         \n",
       "Old, high income adult       1.0  25.0  7.943386                    0.0  30.0   \n",
       "Old, high income parent      1.0  25.0  7.956077                    0.0  30.0   \n",
       "Old, low income adult        1.0  25.0  6.516348                    0.0  30.0   \n",
       "Old, low income parent       1.0  25.0  6.503874                    0.0  30.0   \n",
       "Old, mid income adult        1.0  25.0  7.962071                    0.0  30.0   \n",
       "Old, mid income parent       1.0  25.0  7.956082                    0.0  30.0   \n",
       "Young, high income adult     1.0  25.0  7.932772                    0.0  30.0   \n",
       "Young, high income parent    1.0  25.0  7.948521                    0.0  30.0   \n",
       "Young, low income adult      1.0  25.0  7.314102                    0.0  30.0   \n",
       "Young, low income parent     1.0  25.0  7.331785                    0.0  30.0   \n",
       "Young, mid income adult      1.0  25.0  7.955948                    0.0  30.0   \n",
       "Young, mid income parent     1.0  25.0  7.951073                    0.0  30.0   \n",
       "\n",
       "                                      \n",
       "                                mean  \n",
       "profile                               \n",
       "Old, high income adult     10.615631  \n",
       "Old, high income parent    10.796776  \n",
       "Old, low income adult      11.042342  \n",
       "Old, low income parent     11.140345  \n",
       "Old, mid income adult      10.736644  \n",
       "Old, mid income parent     10.818109  \n",
       "Young, high income adult   10.724513  \n",
       "Young, high income parent  10.789668  \n",
       "Young, low income adult    11.129080  \n",
       "Young, low income parent   10.995059  \n",
       "Young, mid income adult    10.781116  \n",
       "Young, mid income parent   10.699760  "
      ]
     },
     "execution_count": 55,
     "metadata": {},
     "output_type": "execute_result"
    }
   ],
   "source": [
    "# Aggregate mean, min, and max of 'profile' for usage frequency and expenditure\n",
    "ords_prods_all.groupby('profile').agg({k : ['min', 'max', 'mean'] for k in ['prices', 'days_since_prior_order']})"
   ]
  },
  {
   "cell_type": "code",
   "execution_count": 56,
   "id": "20fe5b5d",
   "metadata": {},
   "outputs": [
    {
     "data": {
      "text/html": [
       "<div>\n",
       "<style scoped>\n",
       "    .dataframe tbody tr th:only-of-type {\n",
       "        vertical-align: middle;\n",
       "    }\n",
       "\n",
       "    .dataframe tbody tr th {\n",
       "        vertical-align: top;\n",
       "    }\n",
       "\n",
       "    .dataframe thead tr th {\n",
       "        text-align: left;\n",
       "    }\n",
       "\n",
       "    .dataframe thead tr:last-of-type th {\n",
       "        text-align: right;\n",
       "    }\n",
       "</style>\n",
       "<table border=\"1\" class=\"dataframe\">\n",
       "  <thead>\n",
       "    <tr>\n",
       "      <th></th>\n",
       "      <th colspan=\"3\" halign=\"left\">prices</th>\n",
       "      <th colspan=\"3\" halign=\"left\">days_since_prior_order</th>\n",
       "    </tr>\n",
       "    <tr>\n",
       "      <th></th>\n",
       "      <th>min</th>\n",
       "      <th>max</th>\n",
       "      <th>mean</th>\n",
       "      <th>min</th>\n",
       "      <th>max</th>\n",
       "      <th>mean</th>\n",
       "    </tr>\n",
       "    <tr>\n",
       "      <th>goods_type</th>\n",
       "      <th></th>\n",
       "      <th></th>\n",
       "      <th></th>\n",
       "      <th></th>\n",
       "      <th></th>\n",
       "      <th></th>\n",
       "    </tr>\n",
       "  </thead>\n",
       "  <tbody>\n",
       "    <tr>\n",
       "      <th>Drinks</th>\n",
       "      <td>1.0</td>\n",
       "      <td>15.0</td>\n",
       "      <td>7.707480</td>\n",
       "      <td>0.0</td>\n",
       "      <td>30.0</td>\n",
       "      <td>10.728529</td>\n",
       "    </tr>\n",
       "    <tr>\n",
       "      <th>Home care</th>\n",
       "      <td>1.0</td>\n",
       "      <td>15.0</td>\n",
       "      <td>7.634441</td>\n",
       "      <td>0.0</td>\n",
       "      <td>30.0</td>\n",
       "      <td>11.068174</td>\n",
       "    </tr>\n",
       "    <tr>\n",
       "      <th>Miscellaneous</th>\n",
       "      <td>1.0</td>\n",
       "      <td>15.0</td>\n",
       "      <td>7.836474</td>\n",
       "      <td>0.0</td>\n",
       "      <td>30.0</td>\n",
       "      <td>10.651732</td>\n",
       "    </tr>\n",
       "    <tr>\n",
       "      <th>Non-perishable foods</th>\n",
       "      <td>1.0</td>\n",
       "      <td>20.0</td>\n",
       "      <td>6.234268</td>\n",
       "      <td>0.0</td>\n",
       "      <td>30.0</td>\n",
       "      <td>10.918018</td>\n",
       "    </tr>\n",
       "    <tr>\n",
       "      <th>Perishable foods</th>\n",
       "      <td>1.0</td>\n",
       "      <td>25.0</td>\n",
       "      <td>8.314517</td>\n",
       "      <td>0.0</td>\n",
       "      <td>30.0</td>\n",
       "      <td>10.768934</td>\n",
       "    </tr>\n",
       "  </tbody>\n",
       "</table>\n",
       "</div>"
      ],
      "text/plain": [
       "                     prices                 days_since_prior_order        \\\n",
       "                        min   max      mean                    min   max   \n",
       "goods_type                                                                 \n",
       "Drinks                  1.0  15.0  7.707480                    0.0  30.0   \n",
       "Home care               1.0  15.0  7.634441                    0.0  30.0   \n",
       "Miscellaneous           1.0  15.0  7.836474                    0.0  30.0   \n",
       "Non-perishable foods    1.0  20.0  6.234268                    0.0  30.0   \n",
       "Perishable foods        1.0  25.0  8.314517                    0.0  30.0   \n",
       "\n",
       "                                 \n",
       "                           mean  \n",
       "goods_type                       \n",
       "Drinks                10.728529  \n",
       "Home care             11.068174  \n",
       "Miscellaneous         10.651732  \n",
       "Non-perishable foods  10.918018  \n",
       "Perishable foods      10.768934  "
      ]
     },
     "execution_count": 56,
     "metadata": {},
     "output_type": "execute_result"
    }
   ],
   "source": [
    "# Aggregate mean, min, and max of 'goods_type' for usage frequency and expenditure\n",
    "ords_prods_all.groupby('goods_type').agg({k : ['min', 'max', 'mean'] for k in ['prices', 'days_since_prior_order']})"
   ]
  },
  {
   "cell_type": "markdown",
   "id": "8864b602",
   "metadata": {},
   "source": [
    "#### Compare your customer profiles with regions and departments. Can you identify a link between them? Customers may demonstrate different behaviors across regions, which could make this information important."
   ]
  },
  {
   "cell_type": "code",
   "execution_count": 57,
   "id": "1e2170aa",
   "metadata": {},
   "outputs": [
    {
     "data": {
      "text/plain": [
       "<matplotlib.legend.Legend at 0x227c7823b20>"
      ]
     },
     "execution_count": 57,
     "metadata": {},
     "output_type": "execute_result"
    },
    {
     "data": {
      "image/png": "[encoded data removed]",
      "text/plain": [
       "<Figure size 640x480 with 1 Axes>"
      ]
     },
     "metadata": {},
     "output_type": "display_data"
    }
   ],
   "source": [
    "# Make a pivot table\n",
    "piv2 = ords_prods_all.pivot_table(index='profile', columns='region', values='prices', aggfunc='mean')\n",
    "\n",
    "# Create a bar of the pivot table\n",
    "bar_profile_region = piv2.plot.barh(title='Distribution of Sales by Profile and Region', width=0.7, xlabel='Average Sales', ylabel='')\n",
    "bar_profile_region.legend(bbox_to_anchor=(1.05, 1), loc='upper left')"
   ]
  },
  {
   "cell_type": "code",
   "execution_count": 58,
   "id": "3e51d5c9",
   "metadata": {},
   "outputs": [],
   "source": [
    "# Export bar_profile_goods chart\n",
    "bar_profile_region.figure.savefig(os.path.join(path, '04 Analysis','Visualizations', 'bar_profile_region.png'), bbox_inches='tight')"
   ]
  },
  {
   "cell_type": "code",
   "execution_count": 59,
   "id": "ae352d81",
   "metadata": {},
   "outputs": [
    {
     "data": {
      "text/plain": [
       "<matplotlib.legend.Legend at 0x2264e1718b0>"
      ]
     },
     "execution_count": 59,
     "metadata": {},
     "output_type": "execute_result"
    },
    {
     "data": {
      "image/png": "[encoded data removed]",
      "text/plain": [
       "<Figure size 640x480 with 1 Axes>"
      ]
     },
     "metadata": {},
     "output_type": "display_data"
    }
   ],
   "source": [
    "# Make a pivot table\n",
    "piv3 = ords_prods_all.pivot_table(index='profile', columns='goods_type', values='prices', aggfunc='mean')\n",
    "\n",
    "# Create a bar of the pivot table\n",
    "bar_profile_goods = piv3.plot.barh(title='Distribution of Sales by Profile and Type of Goods', width=0.7, xlabel='Average Sales', ylabel='')\n",
    "bar_profile_goods.legend(bbox_to_anchor=(1.05, 1), loc='upper left')"
   ]
  },
  {
   "cell_type": "code",
   "execution_count": 60,
   "id": "433de390",
   "metadata": {},
   "outputs": [],
   "source": [
    "# Export bar_profile_region chart\n",
    "bar_profile_goods.figure.savefig(os.path.join(path, '04 Analysis','Visualizations', 'bar_profile_goods.png'), bbox_inches='tight')"
   ]
  },
  {
   "cell_type": "markdown",
   "id": "ce88fc3a",
   "metadata": {},
   "source": [
    "# 5. Create and Export Other Suitable Visualizations"
   ]
  },
  {
   "cell_type": "markdown",
   "id": "3adc4c86",
   "metadata": {},
   "source": [
    "#### Produce suitable charts to illustrate your results and export them in your project folder."
   ]
  },
  {
   "cell_type": "code",
   "execution_count": 62,
   "id": "ca826ffb",
   "metadata": {},
   "outputs": [
    {
     "data": {
      "text/plain": [
       "<matplotlib.legend.Legend at 0x227c68e67f0>"
      ]
     },
     "execution_count": 62,
     "metadata": {},
     "output_type": "execute_result"
    },
    {
     "data": {
      "image/png": "[encoded data removed]",
      "text/plain": [
       "<Figure size 1000x600 with 1 Axes>"
      ]
     },
     "metadata": {},
     "output_type": "display_data"
    }
   ],
   "source": [
    "# Make a pivot table\n",
    "piv4 = ords_prods_all.pivot_table(index='order_hour_of_day', columns='orders_day_of_week', values='prices', aggfunc='sum')\n",
    "\n",
    "# Create a bar of the pivot table\n",
    "bar_sales_week_hour = piv4.plot.bar(figsize=(10,6), width=0.7, title='Distribution of Sales Across the Week', xlabel='Hour of Day', ylabel='Sales (millions)', rot=0)\n",
    "bar_sales_week_hour.legend(['Sat', 'Sun', 'Mon', 'Tue', 'Wed', 'Thu', 'Fri'])"
   ]
  },
  {
   "cell_type": "code",
   "execution_count": 63,
   "id": "66a0c24f",
   "metadata": {},
   "outputs": [],
   "source": [
    "# Export bar_sales_week_hour chart\n",
    "bar_sales_week_hour.figure.savefig(os.path.join(path, '04 Analysis','Visualizations', 'bar_sales_week_hour.png'), bbox_inches='tight')"
   ]
  },
  {
   "cell_type": "code",
   "execution_count": 71,
   "id": "f2facb10",
   "metadata": {},
   "outputs": [
    {
     "data": {
      "text/plain": [
       "<matplotlib.legend.Legend at 0x22604a9e580>"
      ]
     },
     "execution_count": 71,
     "metadata": {},
     "output_type": "execute_result"
    },
    {
     "data": {
      "image/png": "[encoded data removed]",
      "text/plain": [
       "<Figure size 640x480 with 1 Axes>"
      ]
     },
     "metadata": {},
     "output_type": "display_data"
    }
   ],
   "source": [
    "# Make a pivot table\n",
    "piv5 = ords_prods_all.pivot_table(index='price_range', values='prices', aggfunc='sum')\n",
    "\n",
    "# Create a bar chart of the pivot table\n",
    "bar_sales_price_range = piv5.sort_values(by='prices', ascending=False).plot.bar(title='Distribution of Sales by Price Range', xlabel='', ylabel='Sales (hundred millions)', rot=0)\n",
    "bar_sales_price_range.legend('')"
   ]
  },
  {
   "cell_type": "code",
   "execution_count": 72,
   "id": "2615612d",
   "metadata": {},
   "outputs": [],
   "source": [
    "# Export bar_sales_price_range chart\n",
    "bar_sales_price_range.figure.savefig(os.path.join(path, '04 Analysis','Visualizations', 'bar_sales_price_range.png'))"
   ]
  },
  {
   "cell_type": "code",
   "execution_count": 68,
   "id": "6392c4c6",
   "metadata": {},
   "outputs": [
    {
     "data": {
      "image/png": "[encoded data removed]",
      "text/plain": [
       "<Figure size 800x500 with 1 Axes>"
      ]
     },
     "metadata": {},
     "output_type": "display_data"
    }
   ],
   "source": [
    "# Create a bar chart showing the distribution of days since prior order\n",
    "bar_days_since_prior_order = ords_prods_all['days_since_prior_order'].value_counts(dropna = False).sort_index().plot.bar(figsize=(8,5), width=0.4, title = 'How Often Customers Return to Instacart', xlabel = 'Days Since Prior Order', ylabel = 'Frequency (millions)')"
   ]
  },
  {
   "cell_type": "code",
   "execution_count": 69,
   "id": "b74e21ed",
   "metadata": {},
   "outputs": [],
   "source": [
    "# Export bar_sales_price_range chart\n",
    "bar_days_since_prior_order.figure.savefig(os.path.join(path, '04 Analysis','Visualizations', 'bar_days_since_prior_order.png'), bbox_inches='tight')"
   ]
  },
  {
   "cell_type": "code",
   "execution_count": 70,
   "id": "b656e479",
   "metadata": {},
   "outputs": [
    {
     "data": {
      "text/plain": [
       "<matplotlib.legend.Legend at 0x22604a611c0>"
      ]
     },
     "execution_count": 70,
     "metadata": {},
     "output_type": "execute_result"
    },
    {
     "data": {
      "image/png": "[encoded data removed]",
      "text/plain": [
       "<Figure size 640x480 with 1 Axes>"
      ]
     },
     "metadata": {},
     "output_type": "display_data"
    }
   ],
   "source": [
    "# Make a pivot table\n",
    "piv6 = ords_prods_all.pivot_table(index='customer_frequency_level', values='days_since_prior_order', aggfunc='median')\n",
    "\n",
    "# Create a bar chart of the pivot table\n",
    "bar_cust_freq_level = piv6.sort_values(by='days_since_prior_order').plot.bar(title='How Often Customers Return to Instacart by Frequency Level', xlabel='', ylabel='Days Since Prior Order (median)', rot=0)\n",
    "bar_cust_freq_level.legend('')"
   ]
  },
  {
   "cell_type": "code",
   "execution_count": 71,
   "id": "f924b4ba",
   "metadata": {},
   "outputs": [],
   "source": [
    "# Export bar_sales_price_range chart\n",
    "bar_cust_freq_level.figure.savefig(os.path.join(path, '04 Analysis','Visualizations', 'bar_cust_freq_level.png'))"
   ]
  },
  {
   "cell_type": "code",
   "execution_count": 73,
   "id": "7d84aa99",
   "metadata": {},
   "outputs": [
    {
     "data": {
      "text/plain": [
       "<matplotlib.legend.Legend at 0x22605b2e070>"
      ]
     },
     "execution_count": 73,
     "metadata": {},
     "output_type": "execute_result"
    },
    {
     "data": {
      "image/png": "[encoded data removed]",
      "text/plain": [
       "<Figure size 640x480 with 1 Axes>"
      ]
     },
     "metadata": {},
     "output_type": "display_data"
    }
   ],
   "source": [
    "# Make a pivot table\n",
    "piv7 = ords_prods_all.pivot_table(index='loyalty_label', values='prices', aggfunc='mean')\n",
    "\n",
    "# Create a bar chart of the pivot table\n",
    "bar_loyalty = piv7.plot.bar(title='Distribution of Sales by Loyalty Label', xlabel='', ylabel='Average Sales', rot=0)\n",
    "bar_loyalty.legend('')"
   ]
  },
  {
   "cell_type": "code",
   "execution_count": 74,
   "id": "80184883",
   "metadata": {},
   "outputs": [],
   "source": [
    "# Export bar_loyalty chart\n",
    "bar_loyalty.figure.savefig(os.path.join(path, '04 Analysis','Visualizations', 'bar_loyalty.png'))"
   ]
  },
  {
   "cell_type": "code",
   "execution_count": 75,
   "id": "3d63893e",
   "metadata": {},
   "outputs": [
    {
     "data": {
      "text/plain": [
       "<matplotlib.legend.Legend at 0x22605dc3160>"
      ]
     },
     "execution_count": 75,
     "metadata": {},
     "output_type": "execute_result"
    },
    {
     "data": {
      "image/png": "[encoded data removed]",
      "text/plain": [
       "<Figure size 640x480 with 1 Axes>"
      ]
     },
     "metadata": {},
     "output_type": "display_data"
    }
   ],
   "source": [
    "# Make a pivot table\n",
    "piv8 = ords_prods_all.pivot_table(index='region', values='prices', aggfunc='mean')\n",
    "\n",
    "# Create a bar chart of the pivot table\n",
    "bar_region = piv8.sort_values(by='prices', ascending=False).plot.bar(title='Distribution of Sales by Region', xlabel='', ylabel='Average Sales', rot=0)\n",
    "bar_region.legend('')"
   ]
  },
  {
   "cell_type": "code",
   "execution_count": 76,
   "id": "c3d12b56",
   "metadata": {},
   "outputs": [],
   "source": [
    "# Export bar_region chart\n",
    "bar_region.figure.savefig(os.path.join(path, '04 Analysis','Visualizations', 'bar_region.png'))"
   ]
  },
  {
   "cell_type": "code",
   "execution_count": 76,
   "id": "ddd1ec99",
   "metadata": {},
   "outputs": [],
   "source": [
    "# Create a dictionary to rename the department_id\n",
    "dept_map = {1: 'frozen',\n",
    "            2: 'other',\n",
    "            3: 'bakery',\n",
    "            4: 'produce',\n",
    "            5: 'alcochol',\n",
    "            6: 'international',\n",
    "            7: 'beverages',\n",
    "            8: 'pets',\n",
    "            9: 'dry goods pasta',\n",
    "           10: 'bulk',\n",
    "           11: 'personal care',\n",
    "           12: 'meat seafood',\n",
    "           13: 'pantry',\n",
    "           14: 'breakfast',\n",
    "           15: 'canned goods',\n",
    "           16: 'dairy eggs',\n",
    "           17: 'household',\n",
    "           18: 'babies',\n",
    "           19: 'snacks',\n",
    "           20: 'deli',\n",
    "           21: 'missing'}"
   ]
  },
  {
   "cell_type": "code",
   "execution_count": 77,
   "id": "b995cb6e",
   "metadata": {},
   "outputs": [
    {
     "data": {
      "image/png": "[encoded data removed]",
      "text/plain": [
       "<Figure size 640x480 with 1 Axes>"
      ]
     },
     "metadata": {},
     "output_type": "display_data"
    }
   ],
   "source": [
    "# Create a bar chart of the department_id\n",
    "bar_dept = ords_prods_all['department_id'].value_counts(dropna = False, ascending=True).rename(dept_map).plot.barh(title = 'Distribution of Orders by Department', xlabel = 'Number of Orders (millions)')"
   ]
  },
  {
   "cell_type": "code",
   "execution_count": 78,
   "id": "e6f49427",
   "metadata": {},
   "outputs": [],
   "source": [
    "# Export bar_dept chart\n",
    "bar_dept.figure.savefig(os.path.join(path, '04 Analysis','Visualizations', 'bar_dept.png'), bbox_inches='tight')"
   ]
  }
 ],
 "metadata": {
  "kernelspec": {
   "display_name": "Python 3 (ipykernel)",
   "language": "python",
   "name": "python3"
  },
  "language_info": {
   "codemirror_mode": {
    "name": "ipython",
    "version": 3
   },
   "file_extension": ".py",
   "mimetype": "text/x-python",
   "name": "python",
   "nbconvert_exporter": "python",
   "pygments_lexer": "ipython3",
   "version": "3.9.13"
  }
 },
 "nbformat": 4,
 "nbformat_minor": 5
}
